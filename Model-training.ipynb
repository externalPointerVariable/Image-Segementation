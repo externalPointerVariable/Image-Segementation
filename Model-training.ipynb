{
  "cells": [
    {
      "cell_type": "code",
      "execution_count": 5,
      "metadata": {
        "id": "tgp3cxeZoWZt"
      },
      "outputs": [],
      "source": [
        "import pandas as pd\n",
        "import seaborn as sns\n",
        "import numpy as np\n",
        "import matplotlib.pyplot as plt\n",
        "import pickle"
      ]
    },
    {
      "cell_type": "code",
      "source": [
        "from google.colab import drive\n",
        "drive.mount('/content/drive')"
      ],
      "metadata": {
        "id": "5CWVvbyCoysQ",
        "outputId": "96359f0e-cf29-4172-a977-ea2405ddf773",
        "colab": {
          "base_uri": "https://localhost:8080/"
        }
      },
      "execution_count": 4,
      "outputs": [
        {
          "output_type": "stream",
          "name": "stdout",
          "text": [
            "Mounted at /content/drive\n"
          ]
        }
      ]
    },
    {
      "cell_type": "markdown",
      "metadata": {
        "id": "UXpbWIxOoWZx"
      },
      "source": [
        "# Reading all the Data"
      ]
    },
    {
      "cell_type": "code",
      "execution_count": 6,
      "metadata": {
        "id": "3w2e0gOSoWZ4",
        "outputId": "b2e3211a-c900-4b4b-92df-285e693af7ae",
        "colab": {
          "base_uri": "https://localhost:8080/"
        }
      },
      "outputs": [
        {
          "output_type": "stream",
          "name": "stdout",
          "text": [
            "1. Title: Image Segmentation data\n",
            "\n",
            "2. Source Information\n",
            "   -- Creators: Vision Group, University of Massachusetts\n",
            "   -- Donor: Vision Group (Carla Brodley, brodley@cs.umass.edu)\n",
            "   -- Date: November, 1990\n",
            " \n",
            "3. Past Usage: None yet published\n",
            "\n",
            "4. Relevant Information:\n",
            "\n",
            "   The instances were drawn randomly from a database of 7 outdoor \n",
            "   images.  The images were handsegmented to create a classification\n",
            "   for every pixel.  \n",
            "\n",
            "   Each instance is a 3x3 region.\n",
            "\n",
            "5. Number of Instances: Training data: 210  Test data: 2100\n",
            "\n",
            "6. Number of Attributes: 19 continuous attributes\n",
            "\n",
            "7. Attribute Information:\n",
            "\n",
            "    1.  region-centroid-col:  the column of the center pixel of the region.\n",
            "    2.  region-centroid-row:  the row of the center pixel of the region.\n",
            "    3.  region-pixel-count:  the number of pixels in a region = 9.\n",
            "    4.  short-line-density-5:  the results of a line extractoin algorithm that \n",
            "         counts how many lines of length 5 (any orientation) with\n",
            "         low contrast, less than or equal to 5, go through the region.\n",
            "    5.  short-line-density-2:  same as short-line-density-5 but counts lines\n",
            "         of high contrast, greater than 5.\n",
            "    6.  vedge-mean:  measure the contrast of horizontally\n",
            "         adjacent pixels in the region.  There are 6, the mean and \n",
            "         standard deviation are given.  This attribute is used as\n",
            "        a vertical edge detector.\n",
            "    7.  vegde-sd:  (see 6)\n",
            "    8.  hedge-mean:  measures the contrast of vertically adjacent\n",
            "          pixels. Used for horizontal line detection. \n",
            "    9.  hedge-sd: (see 8).\n",
            "    10. intensity-mean:  the average over the region of (R + G + B)/3\n",
            "    11. rawred-mean: the average over the region of the R value.\n",
            "    12. rawblue-mean: the average over the region of the B value.\n",
            "    13. rawgreen-mean: the average over the region of the G value.\n",
            "    14. exred-mean: measure the excess red:  (2R - (G + B))\n",
            "    15. exblue-mean: measure the excess blue:  (2B - (G + R))\n",
            "    16. exgreen-mean: measure the excess green:  (2G - (R + B))\n",
            "    17. value-mean:  3-d nonlinear transformation\n",
            "         of RGB. (Algorithm can be found in Foley and VanDam, Fundamentals\n",
            "         of Interactive Computer Graphics)\n",
            "    18. saturatoin-mean:  (see 17)\n",
            "    19. hue-mean:  (see 17)\n",
            "\n",
            "8. Missing Attribute Values: None\n",
            "\n",
            "9. Class Distribution: \n",
            "\n",
            "   Classes:  brickface, sky, foliage, cement, window, path, grass.\n",
            "\n",
            "   30 instances per class for training data.\n",
            "   300 instances per class for test data.\n",
            "\n",
            "\n"
          ]
        }
      ],
      "source": [
        "with open(\"/content/drive/MyDrive/Image-Segementation/Image-Segementation-Dataset/segmentation.names\") as data_description:\n",
        "    print(data_description.read())"
      ]
    },
    {
      "cell_type": "code",
      "execution_count": 7,
      "metadata": {
        "id": "myJPNtQEoWZ7",
        "outputId": "4cb4813a-b91a-4906-99ae-c530c13ccdc5",
        "colab": {
          "base_uri": "https://localhost:8080/",
          "height": 496
        }
      },
      "outputs": [
        {
          "output_type": "execute_result",
          "data": {
            "text/plain": [
              "    TARGET-CLASS  REGION-CENTROID-COL  REGION-CENTROID-ROW  \\\n",
              "0      BRICKFACE                140.0                125.0   \n",
              "1      BRICKFACE                188.0                133.0   \n",
              "2      BRICKFACE                105.0                139.0   \n",
              "3      BRICKFACE                 34.0                137.0   \n",
              "4      BRICKFACE                 39.0                111.0   \n",
              "..           ...                  ...                  ...   \n",
              "205        GRASS                 36.0                243.0   \n",
              "206        GRASS                186.0                218.0   \n",
              "207        GRASS                197.0                236.0   \n",
              "208        GRASS                208.0                240.0   \n",
              "209        GRASS                223.0                185.0   \n",
              "\n",
              "     REGION-PIXEL-COUNT  SHORT-LINE-DENSITY-5  SHORT-LINE-DENSITY-2  \\\n",
              "0                     9              0.000000                   0.0   \n",
              "1                     9              0.000000                   0.0   \n",
              "2                     9              0.000000                   0.0   \n",
              "3                     9              0.000000                   0.0   \n",
              "4                     9              0.000000                   0.0   \n",
              "..                  ...                   ...                   ...   \n",
              "205                   9              0.111111                   0.0   \n",
              "206                   9              0.000000                   0.0   \n",
              "207                   9              0.000000                   0.0   \n",
              "208                   9              0.111111                   0.0   \n",
              "209                   9              0.000000                   0.0   \n",
              "\n",
              "     VEDGE-MEAN  VEDGE-SD  HEDGE-MEAN  HEDGE-SD  INTENSITY-MEAN  RAWRED-MEAN  \\\n",
              "0      0.277778  0.062963    0.666667  0.311111        6.185185     7.333334   \n",
              "1      0.333333  0.266667    0.500000  0.077778        6.666666     8.333334   \n",
              "2      0.277778  0.107407    0.833333  0.522222        6.111111     7.555555   \n",
              "3      0.500000  0.166667    1.111111  0.474074        5.851852     7.777778   \n",
              "4      0.722222  0.374074    0.888889  0.429629        6.037037     7.000000   \n",
              "..          ...       ...         ...       ...             ...          ...   \n",
              "205    1.888889  1.851851    2.000000  0.711110       13.333333     9.888889   \n",
              "206    1.166667  0.744444    1.166667  0.655555       13.703704    10.666667   \n",
              "207    2.444444  6.829628    3.333333  7.599998       16.074074    13.111111   \n",
              "208    1.055556  0.862963    2.444444  5.007407       14.148149    10.888889   \n",
              "209    0.500000  0.349603    2.388889  2.080776       12.962963    11.555555   \n",
              "\n",
              "     RAWBLUE-MEAN  RAWGREEN-MEAN  EXRED-MEAN  EXBLUE-MEAN  EXGREEN-MEAN  \\\n",
              "0        7.666666       3.555556    3.444444     4.444445     -7.888889   \n",
              "1        7.777778       3.888889    5.000000     3.333333     -8.333333   \n",
              "2        7.222222       3.555556    4.333334     3.333333     -7.666666   \n",
              "3        6.444445       3.333333    5.777778     1.777778     -7.555555   \n",
              "4        7.666666       3.444444    2.888889     4.888889     -7.777778   \n",
              "..            ...            ...         ...          ...           ...   \n",
              "205     12.111111      18.000000  -10.333333    -3.666667     14.000000   \n",
              "206     12.666667      17.777779   -9.111111    -3.111111     12.222222   \n",
              "207     16.666668      18.444445   -8.888889     1.777778      7.111111   \n",
              "208     13.000000      18.555555   -9.777778    -3.444444     13.222222   \n",
              "209      9.777778      17.555555   -4.222222    -9.555555     13.777778   \n",
              "\n",
              "     VALUE-MEAN  SATURATION-MEAN  HUE-MEAN  \n",
              "0      7.777778         0.545635 -1.121818  \n",
              "1      8.444445         0.538580 -0.924817  \n",
              "2      7.555555         0.532628 -0.965946  \n",
              "3      7.777778         0.573633 -0.744272  \n",
              "4      7.888889         0.562919 -1.175773  \n",
              "..          ...              ...       ...  \n",
              "205   18.000000         0.452229  2.368311  \n",
              "206   17.777779         0.401347  2.382684  \n",
              "207   18.555555         0.292729  2.789800  \n",
              "208   18.555555         0.421621  2.392487  \n",
              "209   17.555555         0.445418  1.838850  \n",
              "\n",
              "[210 rows x 20 columns]"
            ],
            "text/html": [
              "\n",
              "  <div id=\"df-45925403-78a8-4e4e-8e51-8cac810d2fad\" class=\"colab-df-container\">\n",
              "    <div>\n",
              "<style scoped>\n",
              "    .dataframe tbody tr th:only-of-type {\n",
              "        vertical-align: middle;\n",
              "    }\n",
              "\n",
              "    .dataframe tbody tr th {\n",
              "        vertical-align: top;\n",
              "    }\n",
              "\n",
              "    .dataframe thead th {\n",
              "        text-align: right;\n",
              "    }\n",
              "</style>\n",
              "<table border=\"1\" class=\"dataframe\">\n",
              "  <thead>\n",
              "    <tr style=\"text-align: right;\">\n",
              "      <th></th>\n",
              "      <th>TARGET-CLASS</th>\n",
              "      <th>REGION-CENTROID-COL</th>\n",
              "      <th>REGION-CENTROID-ROW</th>\n",
              "      <th>REGION-PIXEL-COUNT</th>\n",
              "      <th>SHORT-LINE-DENSITY-5</th>\n",
              "      <th>SHORT-LINE-DENSITY-2</th>\n",
              "      <th>VEDGE-MEAN</th>\n",
              "      <th>VEDGE-SD</th>\n",
              "      <th>HEDGE-MEAN</th>\n",
              "      <th>HEDGE-SD</th>\n",
              "      <th>INTENSITY-MEAN</th>\n",
              "      <th>RAWRED-MEAN</th>\n",
              "      <th>RAWBLUE-MEAN</th>\n",
              "      <th>RAWGREEN-MEAN</th>\n",
              "      <th>EXRED-MEAN</th>\n",
              "      <th>EXBLUE-MEAN</th>\n",
              "      <th>EXGREEN-MEAN</th>\n",
              "      <th>VALUE-MEAN</th>\n",
              "      <th>SATURATION-MEAN</th>\n",
              "      <th>HUE-MEAN</th>\n",
              "    </tr>\n",
              "  </thead>\n",
              "  <tbody>\n",
              "    <tr>\n",
              "      <th>0</th>\n",
              "      <td>BRICKFACE</td>\n",
              "      <td>140.0</td>\n",
              "      <td>125.0</td>\n",
              "      <td>9</td>\n",
              "      <td>0.000000</td>\n",
              "      <td>0.0</td>\n",
              "      <td>0.277778</td>\n",
              "      <td>0.062963</td>\n",
              "      <td>0.666667</td>\n",
              "      <td>0.311111</td>\n",
              "      <td>6.185185</td>\n",
              "      <td>7.333334</td>\n",
              "      <td>7.666666</td>\n",
              "      <td>3.555556</td>\n",
              "      <td>3.444444</td>\n",
              "      <td>4.444445</td>\n",
              "      <td>-7.888889</td>\n",
              "      <td>7.777778</td>\n",
              "      <td>0.545635</td>\n",
              "      <td>-1.121818</td>\n",
              "    </tr>\n",
              "    <tr>\n",
              "      <th>1</th>\n",
              "      <td>BRICKFACE</td>\n",
              "      <td>188.0</td>\n",
              "      <td>133.0</td>\n",
              "      <td>9</td>\n",
              "      <td>0.000000</td>\n",
              "      <td>0.0</td>\n",
              "      <td>0.333333</td>\n",
              "      <td>0.266667</td>\n",
              "      <td>0.500000</td>\n",
              "      <td>0.077778</td>\n",
              "      <td>6.666666</td>\n",
              "      <td>8.333334</td>\n",
              "      <td>7.777778</td>\n",
              "      <td>3.888889</td>\n",
              "      <td>5.000000</td>\n",
              "      <td>3.333333</td>\n",
              "      <td>-8.333333</td>\n",
              "      <td>8.444445</td>\n",
              "      <td>0.538580</td>\n",
              "      <td>-0.924817</td>\n",
              "    </tr>\n",
              "    <tr>\n",
              "      <th>2</th>\n",
              "      <td>BRICKFACE</td>\n",
              "      <td>105.0</td>\n",
              "      <td>139.0</td>\n",
              "      <td>9</td>\n",
              "      <td>0.000000</td>\n",
              "      <td>0.0</td>\n",
              "      <td>0.277778</td>\n",
              "      <td>0.107407</td>\n",
              "      <td>0.833333</td>\n",
              "      <td>0.522222</td>\n",
              "      <td>6.111111</td>\n",
              "      <td>7.555555</td>\n",
              "      <td>7.222222</td>\n",
              "      <td>3.555556</td>\n",
              "      <td>4.333334</td>\n",
              "      <td>3.333333</td>\n",
              "      <td>-7.666666</td>\n",
              "      <td>7.555555</td>\n",
              "      <td>0.532628</td>\n",
              "      <td>-0.965946</td>\n",
              "    </tr>\n",
              "    <tr>\n",
              "      <th>3</th>\n",
              "      <td>BRICKFACE</td>\n",
              "      <td>34.0</td>\n",
              "      <td>137.0</td>\n",
              "      <td>9</td>\n",
              "      <td>0.000000</td>\n",
              "      <td>0.0</td>\n",
              "      <td>0.500000</td>\n",
              "      <td>0.166667</td>\n",
              "      <td>1.111111</td>\n",
              "      <td>0.474074</td>\n",
              "      <td>5.851852</td>\n",
              "      <td>7.777778</td>\n",
              "      <td>6.444445</td>\n",
              "      <td>3.333333</td>\n",
              "      <td>5.777778</td>\n",
              "      <td>1.777778</td>\n",
              "      <td>-7.555555</td>\n",
              "      <td>7.777778</td>\n",
              "      <td>0.573633</td>\n",
              "      <td>-0.744272</td>\n",
              "    </tr>\n",
              "    <tr>\n",
              "      <th>4</th>\n",
              "      <td>BRICKFACE</td>\n",
              "      <td>39.0</td>\n",
              "      <td>111.0</td>\n",
              "      <td>9</td>\n",
              "      <td>0.000000</td>\n",
              "      <td>0.0</td>\n",
              "      <td>0.722222</td>\n",
              "      <td>0.374074</td>\n",
              "      <td>0.888889</td>\n",
              "      <td>0.429629</td>\n",
              "      <td>6.037037</td>\n",
              "      <td>7.000000</td>\n",
              "      <td>7.666666</td>\n",
              "      <td>3.444444</td>\n",
              "      <td>2.888889</td>\n",
              "      <td>4.888889</td>\n",
              "      <td>-7.777778</td>\n",
              "      <td>7.888889</td>\n",
              "      <td>0.562919</td>\n",
              "      <td>-1.175773</td>\n",
              "    </tr>\n",
              "    <tr>\n",
              "      <th>...</th>\n",
              "      <td>...</td>\n",
              "      <td>...</td>\n",
              "      <td>...</td>\n",
              "      <td>...</td>\n",
              "      <td>...</td>\n",
              "      <td>...</td>\n",
              "      <td>...</td>\n",
              "      <td>...</td>\n",
              "      <td>...</td>\n",
              "      <td>...</td>\n",
              "      <td>...</td>\n",
              "      <td>...</td>\n",
              "      <td>...</td>\n",
              "      <td>...</td>\n",
              "      <td>...</td>\n",
              "      <td>...</td>\n",
              "      <td>...</td>\n",
              "      <td>...</td>\n",
              "      <td>...</td>\n",
              "      <td>...</td>\n",
              "    </tr>\n",
              "    <tr>\n",
              "      <th>205</th>\n",
              "      <td>GRASS</td>\n",
              "      <td>36.0</td>\n",
              "      <td>243.0</td>\n",
              "      <td>9</td>\n",
              "      <td>0.111111</td>\n",
              "      <td>0.0</td>\n",
              "      <td>1.888889</td>\n",
              "      <td>1.851851</td>\n",
              "      <td>2.000000</td>\n",
              "      <td>0.711110</td>\n",
              "      <td>13.333333</td>\n",
              "      <td>9.888889</td>\n",
              "      <td>12.111111</td>\n",
              "      <td>18.000000</td>\n",
              "      <td>-10.333333</td>\n",
              "      <td>-3.666667</td>\n",
              "      <td>14.000000</td>\n",
              "      <td>18.000000</td>\n",
              "      <td>0.452229</td>\n",
              "      <td>2.368311</td>\n",
              "    </tr>\n",
              "    <tr>\n",
              "      <th>206</th>\n",
              "      <td>GRASS</td>\n",
              "      <td>186.0</td>\n",
              "      <td>218.0</td>\n",
              "      <td>9</td>\n",
              "      <td>0.000000</td>\n",
              "      <td>0.0</td>\n",
              "      <td>1.166667</td>\n",
              "      <td>0.744444</td>\n",
              "      <td>1.166667</td>\n",
              "      <td>0.655555</td>\n",
              "      <td>13.703704</td>\n",
              "      <td>10.666667</td>\n",
              "      <td>12.666667</td>\n",
              "      <td>17.777779</td>\n",
              "      <td>-9.111111</td>\n",
              "      <td>-3.111111</td>\n",
              "      <td>12.222222</td>\n",
              "      <td>17.777779</td>\n",
              "      <td>0.401347</td>\n",
              "      <td>2.382684</td>\n",
              "    </tr>\n",
              "    <tr>\n",
              "      <th>207</th>\n",
              "      <td>GRASS</td>\n",
              "      <td>197.0</td>\n",
              "      <td>236.0</td>\n",
              "      <td>9</td>\n",
              "      <td>0.000000</td>\n",
              "      <td>0.0</td>\n",
              "      <td>2.444444</td>\n",
              "      <td>6.829628</td>\n",
              "      <td>3.333333</td>\n",
              "      <td>7.599998</td>\n",
              "      <td>16.074074</td>\n",
              "      <td>13.111111</td>\n",
              "      <td>16.666668</td>\n",
              "      <td>18.444445</td>\n",
              "      <td>-8.888889</td>\n",
              "      <td>1.777778</td>\n",
              "      <td>7.111111</td>\n",
              "      <td>18.555555</td>\n",
              "      <td>0.292729</td>\n",
              "      <td>2.789800</td>\n",
              "    </tr>\n",
              "    <tr>\n",
              "      <th>208</th>\n",
              "      <td>GRASS</td>\n",
              "      <td>208.0</td>\n",
              "      <td>240.0</td>\n",
              "      <td>9</td>\n",
              "      <td>0.111111</td>\n",
              "      <td>0.0</td>\n",
              "      <td>1.055556</td>\n",
              "      <td>0.862963</td>\n",
              "      <td>2.444444</td>\n",
              "      <td>5.007407</td>\n",
              "      <td>14.148149</td>\n",
              "      <td>10.888889</td>\n",
              "      <td>13.000000</td>\n",
              "      <td>18.555555</td>\n",
              "      <td>-9.777778</td>\n",
              "      <td>-3.444444</td>\n",
              "      <td>13.222222</td>\n",
              "      <td>18.555555</td>\n",
              "      <td>0.421621</td>\n",
              "      <td>2.392487</td>\n",
              "    </tr>\n",
              "    <tr>\n",
              "      <th>209</th>\n",
              "      <td>GRASS</td>\n",
              "      <td>223.0</td>\n",
              "      <td>185.0</td>\n",
              "      <td>9</td>\n",
              "      <td>0.000000</td>\n",
              "      <td>0.0</td>\n",
              "      <td>0.500000</td>\n",
              "      <td>0.349603</td>\n",
              "      <td>2.388889</td>\n",
              "      <td>2.080776</td>\n",
              "      <td>12.962963</td>\n",
              "      <td>11.555555</td>\n",
              "      <td>9.777778</td>\n",
              "      <td>17.555555</td>\n",
              "      <td>-4.222222</td>\n",
              "      <td>-9.555555</td>\n",
              "      <td>13.777778</td>\n",
              "      <td>17.555555</td>\n",
              "      <td>0.445418</td>\n",
              "      <td>1.838850</td>\n",
              "    </tr>\n",
              "  </tbody>\n",
              "</table>\n",
              "<p>210 rows × 20 columns</p>\n",
              "</div>\n",
              "    <div class=\"colab-df-buttons\">\n",
              "\n",
              "  <div class=\"colab-df-container\">\n",
              "    <button class=\"colab-df-convert\" onclick=\"convertToInteractive('df-45925403-78a8-4e4e-8e51-8cac810d2fad')\"\n",
              "            title=\"Convert this dataframe to an interactive table.\"\n",
              "            style=\"display:none;\">\n",
              "\n",
              "  <svg xmlns=\"http://www.w3.org/2000/svg\" height=\"24px\" viewBox=\"0 -960 960 960\">\n",
              "    <path d=\"M120-120v-720h720v720H120Zm60-500h600v-160H180v160Zm220 220h160v-160H400v160Zm0 220h160v-160H400v160ZM180-400h160v-160H180v160Zm440 0h160v-160H620v160ZM180-180h160v-160H180v160Zm440 0h160v-160H620v160Z\"/>\n",
              "  </svg>\n",
              "    </button>\n",
              "\n",
              "  <style>\n",
              "    .colab-df-container {\n",
              "      display:flex;\n",
              "      gap: 12px;\n",
              "    }\n",
              "\n",
              "    .colab-df-convert {\n",
              "      background-color: #E8F0FE;\n",
              "      border: none;\n",
              "      border-radius: 50%;\n",
              "      cursor: pointer;\n",
              "      display: none;\n",
              "      fill: #1967D2;\n",
              "      height: 32px;\n",
              "      padding: 0 0 0 0;\n",
              "      width: 32px;\n",
              "    }\n",
              "\n",
              "    .colab-df-convert:hover {\n",
              "      background-color: #E2EBFA;\n",
              "      box-shadow: 0px 1px 2px rgba(60, 64, 67, 0.3), 0px 1px 3px 1px rgba(60, 64, 67, 0.15);\n",
              "      fill: #174EA6;\n",
              "    }\n",
              "\n",
              "    .colab-df-buttons div {\n",
              "      margin-bottom: 4px;\n",
              "    }\n",
              "\n",
              "    [theme=dark] .colab-df-convert {\n",
              "      background-color: #3B4455;\n",
              "      fill: #D2E3FC;\n",
              "    }\n",
              "\n",
              "    [theme=dark] .colab-df-convert:hover {\n",
              "      background-color: #434B5C;\n",
              "      box-shadow: 0px 1px 3px 1px rgba(0, 0, 0, 0.15);\n",
              "      filter: drop-shadow(0px 1px 2px rgba(0, 0, 0, 0.3));\n",
              "      fill: #FFFFFF;\n",
              "    }\n",
              "  </style>\n",
              "\n",
              "    <script>\n",
              "      const buttonEl =\n",
              "        document.querySelector('#df-45925403-78a8-4e4e-8e51-8cac810d2fad button.colab-df-convert');\n",
              "      buttonEl.style.display =\n",
              "        google.colab.kernel.accessAllowed ? 'block' : 'none';\n",
              "\n",
              "      async function convertToInteractive(key) {\n",
              "        const element = document.querySelector('#df-45925403-78a8-4e4e-8e51-8cac810d2fad');\n",
              "        const dataTable =\n",
              "          await google.colab.kernel.invokeFunction('convertToInteractive',\n",
              "                                                    [key], {});\n",
              "        if (!dataTable) return;\n",
              "\n",
              "        const docLinkHtml = 'Like what you see? Visit the ' +\n",
              "          '<a target=\"_blank\" href=https://colab.research.google.com/notebooks/data_table.ipynb>data table notebook</a>'\n",
              "          + ' to learn more about interactive tables.';\n",
              "        element.innerHTML = '';\n",
              "        dataTable['output_type'] = 'display_data';\n",
              "        await google.colab.output.renderOutput(dataTable, element);\n",
              "        const docLink = document.createElement('div');\n",
              "        docLink.innerHTML = docLinkHtml;\n",
              "        element.appendChild(docLink);\n",
              "      }\n",
              "    </script>\n",
              "  </div>\n",
              "\n",
              "\n",
              "<div id=\"df-381adbcd-7856-4314-913a-3127eaab3ece\">\n",
              "  <button class=\"colab-df-quickchart\" onclick=\"quickchart('df-381adbcd-7856-4314-913a-3127eaab3ece')\"\n",
              "            title=\"Suggest charts\"\n",
              "            style=\"display:none;\">\n",
              "\n",
              "<svg xmlns=\"http://www.w3.org/2000/svg\" height=\"24px\"viewBox=\"0 0 24 24\"\n",
              "     width=\"24px\">\n",
              "    <g>\n",
              "        <path d=\"M19 3H5c-1.1 0-2 .9-2 2v14c0 1.1.9 2 2 2h14c1.1 0 2-.9 2-2V5c0-1.1-.9-2-2-2zM9 17H7v-7h2v7zm4 0h-2V7h2v10zm4 0h-2v-4h2v4z\"/>\n",
              "    </g>\n",
              "</svg>\n",
              "  </button>\n",
              "\n",
              "<style>\n",
              "  .colab-df-quickchart {\n",
              "      --bg-color: #E8F0FE;\n",
              "      --fill-color: #1967D2;\n",
              "      --hover-bg-color: #E2EBFA;\n",
              "      --hover-fill-color: #174EA6;\n",
              "      --disabled-fill-color: #AAA;\n",
              "      --disabled-bg-color: #DDD;\n",
              "  }\n",
              "\n",
              "  [theme=dark] .colab-df-quickchart {\n",
              "      --bg-color: #3B4455;\n",
              "      --fill-color: #D2E3FC;\n",
              "      --hover-bg-color: #434B5C;\n",
              "      --hover-fill-color: #FFFFFF;\n",
              "      --disabled-bg-color: #3B4455;\n",
              "      --disabled-fill-color: #666;\n",
              "  }\n",
              "\n",
              "  .colab-df-quickchart {\n",
              "    background-color: var(--bg-color);\n",
              "    border: none;\n",
              "    border-radius: 50%;\n",
              "    cursor: pointer;\n",
              "    display: none;\n",
              "    fill: var(--fill-color);\n",
              "    height: 32px;\n",
              "    padding: 0;\n",
              "    width: 32px;\n",
              "  }\n",
              "\n",
              "  .colab-df-quickchart:hover {\n",
              "    background-color: var(--hover-bg-color);\n",
              "    box-shadow: 0 1px 2px rgba(60, 64, 67, 0.3), 0 1px 3px 1px rgba(60, 64, 67, 0.15);\n",
              "    fill: var(--button-hover-fill-color);\n",
              "  }\n",
              "\n",
              "  .colab-df-quickchart-complete:disabled,\n",
              "  .colab-df-quickchart-complete:disabled:hover {\n",
              "    background-color: var(--disabled-bg-color);\n",
              "    fill: var(--disabled-fill-color);\n",
              "    box-shadow: none;\n",
              "  }\n",
              "\n",
              "  .colab-df-spinner {\n",
              "    border: 2px solid var(--fill-color);\n",
              "    border-color: transparent;\n",
              "    border-bottom-color: var(--fill-color);\n",
              "    animation:\n",
              "      spin 1s steps(1) infinite;\n",
              "  }\n",
              "\n",
              "  @keyframes spin {\n",
              "    0% {\n",
              "      border-color: transparent;\n",
              "      border-bottom-color: var(--fill-color);\n",
              "      border-left-color: var(--fill-color);\n",
              "    }\n",
              "    20% {\n",
              "      border-color: transparent;\n",
              "      border-left-color: var(--fill-color);\n",
              "      border-top-color: var(--fill-color);\n",
              "    }\n",
              "    30% {\n",
              "      border-color: transparent;\n",
              "      border-left-color: var(--fill-color);\n",
              "      border-top-color: var(--fill-color);\n",
              "      border-right-color: var(--fill-color);\n",
              "    }\n",
              "    40% {\n",
              "      border-color: transparent;\n",
              "      border-right-color: var(--fill-color);\n",
              "      border-top-color: var(--fill-color);\n",
              "    }\n",
              "    60% {\n",
              "      border-color: transparent;\n",
              "      border-right-color: var(--fill-color);\n",
              "    }\n",
              "    80% {\n",
              "      border-color: transparent;\n",
              "      border-right-color: var(--fill-color);\n",
              "      border-bottom-color: var(--fill-color);\n",
              "    }\n",
              "    90% {\n",
              "      border-color: transparent;\n",
              "      border-bottom-color: var(--fill-color);\n",
              "    }\n",
              "  }\n",
              "</style>\n",
              "\n",
              "  <script>\n",
              "    async function quickchart(key) {\n",
              "      const quickchartButtonEl =\n",
              "        document.querySelector('#' + key + ' button');\n",
              "      quickchartButtonEl.disabled = true;  // To prevent multiple clicks.\n",
              "      quickchartButtonEl.classList.add('colab-df-spinner');\n",
              "      try {\n",
              "        const charts = await google.colab.kernel.invokeFunction(\n",
              "            'suggestCharts', [key], {});\n",
              "      } catch (error) {\n",
              "        console.error('Error during call to suggestCharts:', error);\n",
              "      }\n",
              "      quickchartButtonEl.classList.remove('colab-df-spinner');\n",
              "      quickchartButtonEl.classList.add('colab-df-quickchart-complete');\n",
              "    }\n",
              "    (() => {\n",
              "      let quickchartButtonEl =\n",
              "        document.querySelector('#df-381adbcd-7856-4314-913a-3127eaab3ece button');\n",
              "      quickchartButtonEl.style.display =\n",
              "        google.colab.kernel.accessAllowed ? 'block' : 'none';\n",
              "    })();\n",
              "  </script>\n",
              "</div>\n",
              "    </div>\n",
              "  </div>\n"
            ],
            "application/vnd.google.colaboratory.intrinsic+json": {
              "type": "dataframe",
              "variable_name": "train",
              "summary": "{\n  \"name\": \"train\",\n  \"rows\": 210,\n  \"fields\": [\n    {\n      \"column\": \"TARGET-CLASS\",\n      \"properties\": {\n        \"dtype\": \"category\",\n        \"num_unique_values\": 7,\n        \"samples\": [\n          \"BRICKFACE\",\n          \"SKY\",\n          \"PATH\"\n        ],\n        \"semantic_type\": \"\",\n        \"description\": \"\"\n      }\n    },\n    {\n      \"column\": \"REGION-CENTROID-COL\",\n      \"properties\": {\n        \"dtype\": \"number\",\n        \"std\": 74.10402373702024,\n        \"min\": 1.0,\n        \"max\": 252.0,\n        \"num_unique_values\": 139,\n        \"samples\": [\n          232.0,\n          58.0,\n          21.0\n        ],\n        \"semantic_type\": \"\",\n        \"description\": \"\"\n      }\n    },\n    {\n      \"column\": \"REGION-CENTROID-ROW\",\n      \"properties\": {\n        \"dtype\": \"number\",\n        \"std\": 58.1396855414602,\n        \"min\": 11.0,\n        \"max\": 250.0,\n        \"num_unique_values\": 139,\n        \"samples\": [\n          184.0,\n          45.0,\n          29.0\n        ],\n        \"semantic_type\": \"\",\n        \"description\": \"\"\n      }\n    },\n    {\n      \"column\": \"REGION-PIXEL-COUNT\",\n      \"properties\": {\n        \"dtype\": \"number\",\n        \"std\": 0,\n        \"min\": 9,\n        \"max\": 9,\n        \"num_unique_values\": 1,\n        \"samples\": [\n          9\n        ],\n        \"semantic_type\": \"\",\n        \"description\": \"\"\n      }\n    },\n    {\n      \"column\": \"SHORT-LINE-DENSITY-5\",\n      \"properties\": {\n        \"dtype\": \"number\",\n        \"std\": 0.029548507677113485,\n        \"min\": 0.0,\n        \"max\": 0.11111111,\n        \"num_unique_values\": 2,\n        \"samples\": [\n          0.11111111\n        ],\n        \"semantic_type\": \"\",\n        \"description\": \"\"\n      }\n    },\n    {\n      \"column\": \"SHORT-LINE-DENSITY-2\",\n      \"properties\": {\n        \"dtype\": \"number\",\n        \"std\": 0.03007687534278999,\n        \"min\": 0.0,\n        \"max\": 0.22222222,\n        \"num_unique_values\": 3,\n        \"samples\": [\n          0.0\n        ],\n        \"semantic_type\": \"\",\n        \"description\": \"\"\n      }\n    },\n    {\n      \"column\": \"VEDGE-MEAN\",\n      \"properties\": {\n        \"dtype\": \"number\",\n        \"std\": 3.158211423890182,\n        \"min\": 0.0,\n        \"max\": 25.5,\n        \"num_unique_values\": 160,\n        \"samples\": [\n          1.7222222\n        ],\n        \"semantic_type\": \"\",\n        \"description\": \"\"\n      }\n    },\n    {\n      \"column\": \"VEDGE-SD\",\n      \"properties\": {\n        \"dtype\": \"number\",\n        \"std\": 43.49594197730217,\n        \"min\": 0.0,\n        \"max\": 572.9964,\n        \"num_unique_values\": 202,\n        \"samples\": [\n          0.7793635\n        ],\n        \"semantic_type\": \"\",\n        \"description\": \"\"\n      }\n    },\n    {\n      \"column\": \"HEDGE-MEAN\",\n      \"properties\": {\n        \"dtype\": \"number\",\n        \"std\": 4.7982679462201085,\n        \"min\": 0.0,\n        \"max\": 44.722225,\n        \"num_unique_values\": 164,\n        \"samples\": [\n          5.2222214\n        ],\n        \"semantic_type\": \"\",\n        \"description\": \"\"\n      }\n    },\n    {\n      \"column\": \"HEDGE-SD\",\n      \"properties\": {\n        \"dtype\": \"number\",\n        \"std\": 97.39002304965264,\n        \"min\": 0.0,\n        \"max\": 1386.3292,\n        \"num_unique_values\": 202,\n        \"samples\": [\n          1.186342\n        ],\n        \"semantic_type\": \"\",\n        \"description\": \"\"\n      }\n    },\n    {\n      \"column\": \"INTENSITY-MEAN\",\n      \"properties\": {\n        \"dtype\": \"number\",\n        \"std\": 38.677167899526836,\n        \"min\": 0.0,\n        \"max\": 143.44444,\n        \"num_unique_values\": 196,\n        \"samples\": [\n          2.1111112\n        ],\n        \"semantic_type\": \"\",\n        \"description\": \"\"\n      }\n    },\n    {\n      \"column\": \"RAWRED-MEAN\",\n      \"properties\": {\n        \"dtype\": \"number\",\n        \"std\": 35.540563469991476,\n        \"min\": 0.0,\n        \"max\": 136.88889,\n        \"num_unique_values\": 160,\n        \"samples\": [\n          14.555555\n        ],\n        \"semantic_type\": \"\",\n        \"description\": \"\"\n      }\n    },\n    {\n      \"column\": \"RAWBLUE-MEAN\",\n      \"properties\": {\n        \"dtype\": \"number\",\n        \"std\": 43.8044469451816,\n        \"min\": 0.0,\n        \"max\": 150.88889,\n        \"num_unique_values\": 175,\n        \"samples\": [\n          17.88889\n        ],\n        \"semantic_type\": \"\",\n        \"description\": \"\"\n      }\n    },\n    {\n      \"column\": \"RAWGREEN-MEAN\",\n      \"properties\": {\n        \"dtype\": \"number\",\n        \"std\": 37.05700252549078,\n        \"min\": 0.0,\n        \"max\": 142.55556,\n        \"num_unique_values\": 154,\n        \"samples\": [\n          3.6666667\n        ],\n        \"semantic_type\": \"\",\n        \"description\": \"\"\n      }\n    },\n    {\n      \"column\": \"EXRED-MEAN\",\n      \"properties\": {\n        \"dtype\": \"number\",\n        \"std\": 11.559599057642876,\n        \"min\": -48.22222,\n        \"max\": 5.7777777,\n        \"num_unique_values\": 156,\n        \"samples\": [\n          -14.333333\n        ],\n        \"semantic_type\": \"\",\n        \"description\": \"\"\n      }\n    },\n    {\n      \"column\": \"EXBLUE-MEAN\",\n      \"properties\": {\n        \"dtype\": \"number\",\n        \"std\": 18.761842297569604,\n        \"min\": -9.666667,\n        \"max\": 78.77778,\n        \"num_unique_values\": 168,\n        \"samples\": [\n          45.11111\n        ],\n        \"semantic_type\": \"\",\n        \"description\": \"\"\n      }\n    },\n    {\n      \"column\": \"EXGREEN-MEAN\",\n      \"properties\": {\n        \"dtype\": \"number\",\n        \"std\": 11.003746151323178,\n        \"min\": -30.555555,\n        \"max\": 21.88889,\n        \"num_unique_values\": 151,\n        \"samples\": [\n          -18.11111\n        ],\n        \"semantic_type\": \"\",\n        \"description\": \"\"\n      }\n    },\n    {\n      \"column\": \"VALUE-MEAN\",\n      \"properties\": {\n        \"dtype\": \"number\",\n        \"std\": 43.23518235830037,\n        \"min\": 0.0,\n        \"max\": 150.88889,\n        \"num_unique_values\": 175,\n        \"samples\": [\n          19.88889\n        ],\n        \"semantic_type\": \"\",\n        \"description\": \"\"\n      }\n    },\n    {\n      \"column\": \"SATURATION-MEAN\",\n      \"properties\": {\n        \"dtype\": \"number\",\n        \"std\": 0.22733330772007826,\n        \"min\": 0.0,\n        \"max\": 1.0,\n        \"num_unique_values\": 202,\n        \"samples\": [\n          0.2453213\n        ],\n        \"semantic_type\": \"\",\n        \"description\": \"\"\n      }\n    },\n    {\n      \"column\": \"HUE-MEAN\",\n      \"properties\": {\n        \"dtype\": \"number\",\n        \"std\": 1.5594054046531285,\n        \"min\": -2.5309503,\n        \"max\": 2.8649306,\n        \"num_unique_values\": 202,\n        \"samples\": [\n          -1.9107349\n        ],\n        \"semantic_type\": \"\",\n        \"description\": \"\"\n      }\n    }\n  ]\n}"
            }
          },
          "metadata": {},
          "execution_count": 7
        }
      ],
      "source": [
        "train = pd.read_csv('/content/drive/MyDrive/Image-Segementation/Image-Segementation-Dataset/segmentation.data')\n",
        "train #All data is of float64 type"
      ]
    },
    {
      "cell_type": "code",
      "execution_count": 9,
      "metadata": {
        "id": "n4rDPMp4oWZ9",
        "outputId": "40bfc6cb-2968-4573-9dbb-efa8ccab9ca6",
        "colab": {
          "base_uri": "https://localhost:8080/",
          "height": 496
        }
      },
      "outputs": [
        {
          "output_type": "execute_result",
          "data": {
            "text/plain": [
              "     TARGET-CLASS  REGION-CENTROID-COL  REGION-CENTROID-ROW  \\\n",
              "0           GRASS                110.0                189.0   \n",
              "1           GRASS                 86.0                187.0   \n",
              "2           GRASS                225.0                244.0   \n",
              "3           GRASS                 47.0                232.0   \n",
              "4           GRASS                 97.0                186.0   \n",
              "...           ...                  ...                  ...   \n",
              "2095       CEMENT                 32.0                158.0   \n",
              "2096       CEMENT                  8.0                162.0   \n",
              "2097       CEMENT                128.0                161.0   \n",
              "2098       CEMENT                150.0                158.0   \n",
              "2099       CEMENT                124.0                162.0   \n",
              "\n",
              "      REGION-PIXEL-COUNT  SHORT-LINE-DENSITY-5  SHORT-LINE-DENSITY-2  \\\n",
              "0                      9              0.000000                   0.0   \n",
              "1                      9              0.000000                   0.0   \n",
              "2                      9              0.000000                   0.0   \n",
              "3                      9              0.000000                   0.0   \n",
              "4                      9              0.000000                   0.0   \n",
              "...                  ...                   ...                   ...   \n",
              "2095                   9              0.000000                   0.0   \n",
              "2096                   9              0.111111                   0.0   \n",
              "2097                   9              0.000000                   0.0   \n",
              "2098                   9              0.000000                   0.0   \n",
              "2099                   9              0.111111                   0.0   \n",
              "\n",
              "      VEDGE-MEAN  VEDGE-SD  HEDGE-MEAN  HEDGE-SD  INTENSITY-MEAN  RAWRED-MEAN  \\\n",
              "0       1.000000  0.666667    1.222222  1.186342       12.925926    10.888889   \n",
              "1       1.111111  0.720082    1.444444  0.750309       13.740741    11.666667   \n",
              "2       3.388889  2.195113    3.000000  1.520234       12.259259    10.333334   \n",
              "3       1.277778  1.254621    1.000000  0.894427       12.703704    11.000000   \n",
              "4       1.166667  0.691215    1.166667  1.005540       15.592592    13.888889   \n",
              "...          ...       ...         ...       ...             ...          ...   \n",
              "2095    0.944445  0.862963    0.833333  0.611111        7.962963     6.333334   \n",
              "2096    1.611111  2.062962    0.333333  0.133333        8.370370     6.666666   \n",
              "2097    0.555555  0.251852    0.777778  0.162963        7.148148     5.555555   \n",
              "2098    2.166667  1.633334    1.388889  0.418518        8.444445     7.000000   \n",
              "2099    1.388889  1.129630    2.000000  0.888889       10.037037     8.000000   \n",
              "\n",
              "      RAWBLUE-MEAN  RAWGREEN-MEAN  EXRED-MEAN  EXBLUE-MEAN  EXGREEN-MEAN  \\\n",
              "0         9.222222      18.666668   -6.111111   -11.111111     17.222221   \n",
              "1        10.333334      19.222221   -6.222222   -10.222222     16.444445   \n",
              "2         9.333334      17.111110   -5.777778    -8.777778     14.555555   \n",
              "3         9.000000      18.111110   -5.111111   -11.111111     16.222221   \n",
              "4        11.777778      21.111110   -5.111111   -11.444445     16.555555   \n",
              "...            ...            ...         ...          ...           ...   \n",
              "2095     11.888889       5.666666   -4.888889    11.777778     -6.888889   \n",
              "2096     12.000000       6.444445   -5.111111    10.888889     -5.777778   \n",
              "2097     10.888889       5.000000   -4.777778    11.222222     -6.444445   \n",
              "2098     12.222222       6.111111   -4.333334    11.333333     -7.000000   \n",
              "2099     14.555555       7.555555   -6.111111    13.555555     -7.444445   \n",
              "\n",
              "      VALUE-MEAN  SATURATION-MEAN  HUE-MEAN  \n",
              "0      18.666668         0.508139  1.910864  \n",
              "1      19.222221         0.463329  1.941465  \n",
              "2      17.111110         0.480149  1.987902  \n",
              "3      18.111110         0.500966  1.875362  \n",
              "4      21.111110         0.442661  1.863654  \n",
              "...          ...              ...       ...  \n",
              "2095   11.888889         0.520578 -1.982834  \n",
              "2096   12.000000         0.484805 -2.044946  \n",
              "2097   10.888889         0.540918 -1.996307  \n",
              "2098   12.222222         0.503086 -1.943449  \n",
              "2099   14.555555         0.479931 -2.029312  \n",
              "\n",
              "[2100 rows x 20 columns]"
            ],
            "text/html": [
              "\n",
              "  <div id=\"df-46f5dd87-ec17-4567-bf76-bf42a7317423\" class=\"colab-df-container\">\n",
              "    <div>\n",
              "<style scoped>\n",
              "    .dataframe tbody tr th:only-of-type {\n",
              "        vertical-align: middle;\n",
              "    }\n",
              "\n",
              "    .dataframe tbody tr th {\n",
              "        vertical-align: top;\n",
              "    }\n",
              "\n",
              "    .dataframe thead th {\n",
              "        text-align: right;\n",
              "    }\n",
              "</style>\n",
              "<table border=\"1\" class=\"dataframe\">\n",
              "  <thead>\n",
              "    <tr style=\"text-align: right;\">\n",
              "      <th></th>\n",
              "      <th>TARGET-CLASS</th>\n",
              "      <th>REGION-CENTROID-COL</th>\n",
              "      <th>REGION-CENTROID-ROW</th>\n",
              "      <th>REGION-PIXEL-COUNT</th>\n",
              "      <th>SHORT-LINE-DENSITY-5</th>\n",
              "      <th>SHORT-LINE-DENSITY-2</th>\n",
              "      <th>VEDGE-MEAN</th>\n",
              "      <th>VEDGE-SD</th>\n",
              "      <th>HEDGE-MEAN</th>\n",
              "      <th>HEDGE-SD</th>\n",
              "      <th>INTENSITY-MEAN</th>\n",
              "      <th>RAWRED-MEAN</th>\n",
              "      <th>RAWBLUE-MEAN</th>\n",
              "      <th>RAWGREEN-MEAN</th>\n",
              "      <th>EXRED-MEAN</th>\n",
              "      <th>EXBLUE-MEAN</th>\n",
              "      <th>EXGREEN-MEAN</th>\n",
              "      <th>VALUE-MEAN</th>\n",
              "      <th>SATURATION-MEAN</th>\n",
              "      <th>HUE-MEAN</th>\n",
              "    </tr>\n",
              "  </thead>\n",
              "  <tbody>\n",
              "    <tr>\n",
              "      <th>0</th>\n",
              "      <td>GRASS</td>\n",
              "      <td>110.0</td>\n",
              "      <td>189.0</td>\n",
              "      <td>9</td>\n",
              "      <td>0.000000</td>\n",
              "      <td>0.0</td>\n",
              "      <td>1.000000</td>\n",
              "      <td>0.666667</td>\n",
              "      <td>1.222222</td>\n",
              "      <td>1.186342</td>\n",
              "      <td>12.925926</td>\n",
              "      <td>10.888889</td>\n",
              "      <td>9.222222</td>\n",
              "      <td>18.666668</td>\n",
              "      <td>-6.111111</td>\n",
              "      <td>-11.111111</td>\n",
              "      <td>17.222221</td>\n",
              "      <td>18.666668</td>\n",
              "      <td>0.508139</td>\n",
              "      <td>1.910864</td>\n",
              "    </tr>\n",
              "    <tr>\n",
              "      <th>1</th>\n",
              "      <td>GRASS</td>\n",
              "      <td>86.0</td>\n",
              "      <td>187.0</td>\n",
              "      <td>9</td>\n",
              "      <td>0.000000</td>\n",
              "      <td>0.0</td>\n",
              "      <td>1.111111</td>\n",
              "      <td>0.720082</td>\n",
              "      <td>1.444444</td>\n",
              "      <td>0.750309</td>\n",
              "      <td>13.740741</td>\n",
              "      <td>11.666667</td>\n",
              "      <td>10.333334</td>\n",
              "      <td>19.222221</td>\n",
              "      <td>-6.222222</td>\n",
              "      <td>-10.222222</td>\n",
              "      <td>16.444445</td>\n",
              "      <td>19.222221</td>\n",
              "      <td>0.463329</td>\n",
              "      <td>1.941465</td>\n",
              "    </tr>\n",
              "    <tr>\n",
              "      <th>2</th>\n",
              "      <td>GRASS</td>\n",
              "      <td>225.0</td>\n",
              "      <td>244.0</td>\n",
              "      <td>9</td>\n",
              "      <td>0.000000</td>\n",
              "      <td>0.0</td>\n",
              "      <td>3.388889</td>\n",
              "      <td>2.195113</td>\n",
              "      <td>3.000000</td>\n",
              "      <td>1.520234</td>\n",
              "      <td>12.259259</td>\n",
              "      <td>10.333334</td>\n",
              "      <td>9.333334</td>\n",
              "      <td>17.111110</td>\n",
              "      <td>-5.777778</td>\n",
              "      <td>-8.777778</td>\n",
              "      <td>14.555555</td>\n",
              "      <td>17.111110</td>\n",
              "      <td>0.480149</td>\n",
              "      <td>1.987902</td>\n",
              "    </tr>\n",
              "    <tr>\n",
              "      <th>3</th>\n",
              "      <td>GRASS</td>\n",
              "      <td>47.0</td>\n",
              "      <td>232.0</td>\n",
              "      <td>9</td>\n",
              "      <td>0.000000</td>\n",
              "      <td>0.0</td>\n",
              "      <td>1.277778</td>\n",
              "      <td>1.254621</td>\n",
              "      <td>1.000000</td>\n",
              "      <td>0.894427</td>\n",
              "      <td>12.703704</td>\n",
              "      <td>11.000000</td>\n",
              "      <td>9.000000</td>\n",
              "      <td>18.111110</td>\n",
              "      <td>-5.111111</td>\n",
              "      <td>-11.111111</td>\n",
              "      <td>16.222221</td>\n",
              "      <td>18.111110</td>\n",
              "      <td>0.500966</td>\n",
              "      <td>1.875362</td>\n",
              "    </tr>\n",
              "    <tr>\n",
              "      <th>4</th>\n",
              "      <td>GRASS</td>\n",
              "      <td>97.0</td>\n",
              "      <td>186.0</td>\n",
              "      <td>9</td>\n",
              "      <td>0.000000</td>\n",
              "      <td>0.0</td>\n",
              "      <td>1.166667</td>\n",
              "      <td>0.691215</td>\n",
              "      <td>1.166667</td>\n",
              "      <td>1.005540</td>\n",
              "      <td>15.592592</td>\n",
              "      <td>13.888889</td>\n",
              "      <td>11.777778</td>\n",
              "      <td>21.111110</td>\n",
              "      <td>-5.111111</td>\n",
              "      <td>-11.444445</td>\n",
              "      <td>16.555555</td>\n",
              "      <td>21.111110</td>\n",
              "      <td>0.442661</td>\n",
              "      <td>1.863654</td>\n",
              "    </tr>\n",
              "    <tr>\n",
              "      <th>...</th>\n",
              "      <td>...</td>\n",
              "      <td>...</td>\n",
              "      <td>...</td>\n",
              "      <td>...</td>\n",
              "      <td>...</td>\n",
              "      <td>...</td>\n",
              "      <td>...</td>\n",
              "      <td>...</td>\n",
              "      <td>...</td>\n",
              "      <td>...</td>\n",
              "      <td>...</td>\n",
              "      <td>...</td>\n",
              "      <td>...</td>\n",
              "      <td>...</td>\n",
              "      <td>...</td>\n",
              "      <td>...</td>\n",
              "      <td>...</td>\n",
              "      <td>...</td>\n",
              "      <td>...</td>\n",
              "      <td>...</td>\n",
              "    </tr>\n",
              "    <tr>\n",
              "      <th>2095</th>\n",
              "      <td>CEMENT</td>\n",
              "      <td>32.0</td>\n",
              "      <td>158.0</td>\n",
              "      <td>9</td>\n",
              "      <td>0.000000</td>\n",
              "      <td>0.0</td>\n",
              "      <td>0.944445</td>\n",
              "      <td>0.862963</td>\n",
              "      <td>0.833333</td>\n",
              "      <td>0.611111</td>\n",
              "      <td>7.962963</td>\n",
              "      <td>6.333334</td>\n",
              "      <td>11.888889</td>\n",
              "      <td>5.666666</td>\n",
              "      <td>-4.888889</td>\n",
              "      <td>11.777778</td>\n",
              "      <td>-6.888889</td>\n",
              "      <td>11.888889</td>\n",
              "      <td>0.520578</td>\n",
              "      <td>-1.982834</td>\n",
              "    </tr>\n",
              "    <tr>\n",
              "      <th>2096</th>\n",
              "      <td>CEMENT</td>\n",
              "      <td>8.0</td>\n",
              "      <td>162.0</td>\n",
              "      <td>9</td>\n",
              "      <td>0.111111</td>\n",
              "      <td>0.0</td>\n",
              "      <td>1.611111</td>\n",
              "      <td>2.062962</td>\n",
              "      <td>0.333333</td>\n",
              "      <td>0.133333</td>\n",
              "      <td>8.370370</td>\n",
              "      <td>6.666666</td>\n",
              "      <td>12.000000</td>\n",
              "      <td>6.444445</td>\n",
              "      <td>-5.111111</td>\n",
              "      <td>10.888889</td>\n",
              "      <td>-5.777778</td>\n",
              "      <td>12.000000</td>\n",
              "      <td>0.484805</td>\n",
              "      <td>-2.044946</td>\n",
              "    </tr>\n",
              "    <tr>\n",
              "      <th>2097</th>\n",
              "      <td>CEMENT</td>\n",
              "      <td>128.0</td>\n",
              "      <td>161.0</td>\n",
              "      <td>9</td>\n",
              "      <td>0.000000</td>\n",
              "      <td>0.0</td>\n",
              "      <td>0.555555</td>\n",
              "      <td>0.251852</td>\n",
              "      <td>0.777778</td>\n",
              "      <td>0.162963</td>\n",
              "      <td>7.148148</td>\n",
              "      <td>5.555555</td>\n",
              "      <td>10.888889</td>\n",
              "      <td>5.000000</td>\n",
              "      <td>-4.777778</td>\n",
              "      <td>11.222222</td>\n",
              "      <td>-6.444445</td>\n",
              "      <td>10.888889</td>\n",
              "      <td>0.540918</td>\n",
              "      <td>-1.996307</td>\n",
              "    </tr>\n",
              "    <tr>\n",
              "      <th>2098</th>\n",
              "      <td>CEMENT</td>\n",
              "      <td>150.0</td>\n",
              "      <td>158.0</td>\n",
              "      <td>9</td>\n",
              "      <td>0.000000</td>\n",
              "      <td>0.0</td>\n",
              "      <td>2.166667</td>\n",
              "      <td>1.633334</td>\n",
              "      <td>1.388889</td>\n",
              "      <td>0.418518</td>\n",
              "      <td>8.444445</td>\n",
              "      <td>7.000000</td>\n",
              "      <td>12.222222</td>\n",
              "      <td>6.111111</td>\n",
              "      <td>-4.333334</td>\n",
              "      <td>11.333333</td>\n",
              "      <td>-7.000000</td>\n",
              "      <td>12.222222</td>\n",
              "      <td>0.503086</td>\n",
              "      <td>-1.943449</td>\n",
              "    </tr>\n",
              "    <tr>\n",
              "      <th>2099</th>\n",
              "      <td>CEMENT</td>\n",
              "      <td>124.0</td>\n",
              "      <td>162.0</td>\n",
              "      <td>9</td>\n",
              "      <td>0.111111</td>\n",
              "      <td>0.0</td>\n",
              "      <td>1.388889</td>\n",
              "      <td>1.129630</td>\n",
              "      <td>2.000000</td>\n",
              "      <td>0.888889</td>\n",
              "      <td>10.037037</td>\n",
              "      <td>8.000000</td>\n",
              "      <td>14.555555</td>\n",
              "      <td>7.555555</td>\n",
              "      <td>-6.111111</td>\n",
              "      <td>13.555555</td>\n",
              "      <td>-7.444445</td>\n",
              "      <td>14.555555</td>\n",
              "      <td>0.479931</td>\n",
              "      <td>-2.029312</td>\n",
              "    </tr>\n",
              "  </tbody>\n",
              "</table>\n",
              "<p>2100 rows × 20 columns</p>\n",
              "</div>\n",
              "    <div class=\"colab-df-buttons\">\n",
              "\n",
              "  <div class=\"colab-df-container\">\n",
              "    <button class=\"colab-df-convert\" onclick=\"convertToInteractive('df-46f5dd87-ec17-4567-bf76-bf42a7317423')\"\n",
              "            title=\"Convert this dataframe to an interactive table.\"\n",
              "            style=\"display:none;\">\n",
              "\n",
              "  <svg xmlns=\"http://www.w3.org/2000/svg\" height=\"24px\" viewBox=\"0 -960 960 960\">\n",
              "    <path d=\"M120-120v-720h720v720H120Zm60-500h600v-160H180v160Zm220 220h160v-160H400v160Zm0 220h160v-160H400v160ZM180-400h160v-160H180v160Zm440 0h160v-160H620v160ZM180-180h160v-160H180v160Zm440 0h160v-160H620v160Z\"/>\n",
              "  </svg>\n",
              "    </button>\n",
              "\n",
              "  <style>\n",
              "    .colab-df-container {\n",
              "      display:flex;\n",
              "      gap: 12px;\n",
              "    }\n",
              "\n",
              "    .colab-df-convert {\n",
              "      background-color: #E8F0FE;\n",
              "      border: none;\n",
              "      border-radius: 50%;\n",
              "      cursor: pointer;\n",
              "      display: none;\n",
              "      fill: #1967D2;\n",
              "      height: 32px;\n",
              "      padding: 0 0 0 0;\n",
              "      width: 32px;\n",
              "    }\n",
              "\n",
              "    .colab-df-convert:hover {\n",
              "      background-color: #E2EBFA;\n",
              "      box-shadow: 0px 1px 2px rgba(60, 64, 67, 0.3), 0px 1px 3px 1px rgba(60, 64, 67, 0.15);\n",
              "      fill: #174EA6;\n",
              "    }\n",
              "\n",
              "    .colab-df-buttons div {\n",
              "      margin-bottom: 4px;\n",
              "    }\n",
              "\n",
              "    [theme=dark] .colab-df-convert {\n",
              "      background-color: #3B4455;\n",
              "      fill: #D2E3FC;\n",
              "    }\n",
              "\n",
              "    [theme=dark] .colab-df-convert:hover {\n",
              "      background-color: #434B5C;\n",
              "      box-shadow: 0px 1px 3px 1px rgba(0, 0, 0, 0.15);\n",
              "      filter: drop-shadow(0px 1px 2px rgba(0, 0, 0, 0.3));\n",
              "      fill: #FFFFFF;\n",
              "    }\n",
              "  </style>\n",
              "\n",
              "    <script>\n",
              "      const buttonEl =\n",
              "        document.querySelector('#df-46f5dd87-ec17-4567-bf76-bf42a7317423 button.colab-df-convert');\n",
              "      buttonEl.style.display =\n",
              "        google.colab.kernel.accessAllowed ? 'block' : 'none';\n",
              "\n",
              "      async function convertToInteractive(key) {\n",
              "        const element = document.querySelector('#df-46f5dd87-ec17-4567-bf76-bf42a7317423');\n",
              "        const dataTable =\n",
              "          await google.colab.kernel.invokeFunction('convertToInteractive',\n",
              "                                                    [key], {});\n",
              "        if (!dataTable) return;\n",
              "\n",
              "        const docLinkHtml = 'Like what you see? Visit the ' +\n",
              "          '<a target=\"_blank\" href=https://colab.research.google.com/notebooks/data_table.ipynb>data table notebook</a>'\n",
              "          + ' to learn more about interactive tables.';\n",
              "        element.innerHTML = '';\n",
              "        dataTable['output_type'] = 'display_data';\n",
              "        await google.colab.output.renderOutput(dataTable, element);\n",
              "        const docLink = document.createElement('div');\n",
              "        docLink.innerHTML = docLinkHtml;\n",
              "        element.appendChild(docLink);\n",
              "      }\n",
              "    </script>\n",
              "  </div>\n",
              "\n",
              "\n",
              "<div id=\"df-b44e2dd3-6188-4136-8659-8b8bbf91ee56\">\n",
              "  <button class=\"colab-df-quickchart\" onclick=\"quickchart('df-b44e2dd3-6188-4136-8659-8b8bbf91ee56')\"\n",
              "            title=\"Suggest charts\"\n",
              "            style=\"display:none;\">\n",
              "\n",
              "<svg xmlns=\"http://www.w3.org/2000/svg\" height=\"24px\"viewBox=\"0 0 24 24\"\n",
              "     width=\"24px\">\n",
              "    <g>\n",
              "        <path d=\"M19 3H5c-1.1 0-2 .9-2 2v14c0 1.1.9 2 2 2h14c1.1 0 2-.9 2-2V5c0-1.1-.9-2-2-2zM9 17H7v-7h2v7zm4 0h-2V7h2v10zm4 0h-2v-4h2v4z\"/>\n",
              "    </g>\n",
              "</svg>\n",
              "  </button>\n",
              "\n",
              "<style>\n",
              "  .colab-df-quickchart {\n",
              "      --bg-color: #E8F0FE;\n",
              "      --fill-color: #1967D2;\n",
              "      --hover-bg-color: #E2EBFA;\n",
              "      --hover-fill-color: #174EA6;\n",
              "      --disabled-fill-color: #AAA;\n",
              "      --disabled-bg-color: #DDD;\n",
              "  }\n",
              "\n",
              "  [theme=dark] .colab-df-quickchart {\n",
              "      --bg-color: #3B4455;\n",
              "      --fill-color: #D2E3FC;\n",
              "      --hover-bg-color: #434B5C;\n",
              "      --hover-fill-color: #FFFFFF;\n",
              "      --disabled-bg-color: #3B4455;\n",
              "      --disabled-fill-color: #666;\n",
              "  }\n",
              "\n",
              "  .colab-df-quickchart {\n",
              "    background-color: var(--bg-color);\n",
              "    border: none;\n",
              "    border-radius: 50%;\n",
              "    cursor: pointer;\n",
              "    display: none;\n",
              "    fill: var(--fill-color);\n",
              "    height: 32px;\n",
              "    padding: 0;\n",
              "    width: 32px;\n",
              "  }\n",
              "\n",
              "  .colab-df-quickchart:hover {\n",
              "    background-color: var(--hover-bg-color);\n",
              "    box-shadow: 0 1px 2px rgba(60, 64, 67, 0.3), 0 1px 3px 1px rgba(60, 64, 67, 0.15);\n",
              "    fill: var(--button-hover-fill-color);\n",
              "  }\n",
              "\n",
              "  .colab-df-quickchart-complete:disabled,\n",
              "  .colab-df-quickchart-complete:disabled:hover {\n",
              "    background-color: var(--disabled-bg-color);\n",
              "    fill: var(--disabled-fill-color);\n",
              "    box-shadow: none;\n",
              "  }\n",
              "\n",
              "  .colab-df-spinner {\n",
              "    border: 2px solid var(--fill-color);\n",
              "    border-color: transparent;\n",
              "    border-bottom-color: var(--fill-color);\n",
              "    animation:\n",
              "      spin 1s steps(1) infinite;\n",
              "  }\n",
              "\n",
              "  @keyframes spin {\n",
              "    0% {\n",
              "      border-color: transparent;\n",
              "      border-bottom-color: var(--fill-color);\n",
              "      border-left-color: var(--fill-color);\n",
              "    }\n",
              "    20% {\n",
              "      border-color: transparent;\n",
              "      border-left-color: var(--fill-color);\n",
              "      border-top-color: var(--fill-color);\n",
              "    }\n",
              "    30% {\n",
              "      border-color: transparent;\n",
              "      border-left-color: var(--fill-color);\n",
              "      border-top-color: var(--fill-color);\n",
              "      border-right-color: var(--fill-color);\n",
              "    }\n",
              "    40% {\n",
              "      border-color: transparent;\n",
              "      border-right-color: var(--fill-color);\n",
              "      border-top-color: var(--fill-color);\n",
              "    }\n",
              "    60% {\n",
              "      border-color: transparent;\n",
              "      border-right-color: var(--fill-color);\n",
              "    }\n",
              "    80% {\n",
              "      border-color: transparent;\n",
              "      border-right-color: var(--fill-color);\n",
              "      border-bottom-color: var(--fill-color);\n",
              "    }\n",
              "    90% {\n",
              "      border-color: transparent;\n",
              "      border-bottom-color: var(--fill-color);\n",
              "    }\n",
              "  }\n",
              "</style>\n",
              "\n",
              "  <script>\n",
              "    async function quickchart(key) {\n",
              "      const quickchartButtonEl =\n",
              "        document.querySelector('#' + key + ' button');\n",
              "      quickchartButtonEl.disabled = true;  // To prevent multiple clicks.\n",
              "      quickchartButtonEl.classList.add('colab-df-spinner');\n",
              "      try {\n",
              "        const charts = await google.colab.kernel.invokeFunction(\n",
              "            'suggestCharts', [key], {});\n",
              "      } catch (error) {\n",
              "        console.error('Error during call to suggestCharts:', error);\n",
              "      }\n",
              "      quickchartButtonEl.classList.remove('colab-df-spinner');\n",
              "      quickchartButtonEl.classList.add('colab-df-quickchart-complete');\n",
              "    }\n",
              "    (() => {\n",
              "      let quickchartButtonEl =\n",
              "        document.querySelector('#df-b44e2dd3-6188-4136-8659-8b8bbf91ee56 button');\n",
              "      quickchartButtonEl.style.display =\n",
              "        google.colab.kernel.accessAllowed ? 'block' : 'none';\n",
              "    })();\n",
              "  </script>\n",
              "</div>\n",
              "    </div>\n",
              "  </div>\n"
            ],
            "application/vnd.google.colaboratory.intrinsic+json": {
              "type": "dataframe",
              "variable_name": "test",
              "summary": "{\n  \"name\": \"test\",\n  \"rows\": 2100,\n  \"fields\": [\n    {\n      \"column\": \"TARGET-CLASS\",\n      \"properties\": {\n        \"dtype\": \"category\",\n        \"num_unique_values\": 7,\n        \"samples\": [\n          \"GRASS\",\n          \"PATH\",\n          \"SKY\"\n        ],\n        \"semantic_type\": \"\",\n        \"description\": \"\"\n      }\n    },\n    {\n      \"column\": \"REGION-CENTROID-COL\",\n      \"properties\": {\n        \"dtype\": \"number\",\n        \"std\": 72.85863657812145,\n        \"min\": 1.0,\n        \"max\": 254.0,\n        \"num_unique_values\": 253,\n        \"samples\": [\n          3.0,\n          62.0,\n          181.0\n        ],\n        \"semantic_type\": \"\",\n        \"description\": \"\"\n      }\n    },\n    {\n      \"column\": \"REGION-CENTROID-ROW\",\n      \"properties\": {\n        \"dtype\": \"number\",\n        \"std\": 57.43142820381204,\n        \"min\": 11.0,\n        \"max\": 251.0,\n        \"num_unique_values\": 238,\n        \"samples\": [\n          102.0,\n          201.0,\n          59.0\n        ],\n        \"semantic_type\": \"\",\n        \"description\": \"\"\n      }\n    },\n    {\n      \"column\": \"REGION-PIXEL-COUNT\",\n      \"properties\": {\n        \"dtype\": \"number\",\n        \"std\": 0,\n        \"min\": 9,\n        \"max\": 9,\n        \"num_unique_values\": 1,\n        \"samples\": [\n          9\n        ],\n        \"semantic_type\": \"\",\n        \"description\": \"\"\n      }\n    },\n    {\n      \"column\": \"SHORT-LINE-DENSITY-5\",\n      \"properties\": {\n        \"dtype\": \"number\",\n        \"std\": 0.04102362644537332,\n        \"min\": 0.0,\n        \"max\": 0.33333334,\n        \"num_unique_values\": 4,\n        \"samples\": [\n          0.11111111\n        ],\n        \"semantic_type\": \"\",\n        \"description\": \"\"\n      }\n    },\n    {\n      \"column\": \"SHORT-LINE-DENSITY-2\",\n      \"properties\": {\n        \"dtype\": \"number\",\n        \"std\": 0.023573107211427188,\n        \"min\": 0.0,\n        \"max\": 0.22222222,\n        \"num_unique_values\": 3,\n        \"samples\": [\n          0.0\n        ],\n        \"semantic_type\": \"\",\n        \"description\": \"\"\n      }\n    },\n    {\n      \"column\": \"VEDGE-MEAN\",\n      \"properties\": {\n        \"dtype\": \"number\",\n        \"std\": 2.6494530325094483,\n        \"min\": 0.0,\n        \"max\": 29.222221,\n        \"num_unique_values\": 647,\n        \"samples\": [\n          1.4444437\n        ],\n        \"semantic_type\": \"\",\n        \"description\": \"\"\n      }\n    },\n    {\n      \"column\": \"VEDGE-SD\",\n      \"properties\": {\n        \"dtype\": \"number\",\n        \"std\": 44.989359186186924,\n        \"min\": 0.0,\n        \"max\": 991.7184,\n        \"num_unique_values\": 1794,\n        \"samples\": [\n          0.06296299\n        ],\n        \"semantic_type\": \"\",\n        \"description\": \"\"\n      }\n    },\n    {\n      \"column\": \"HEDGE-MEAN\",\n      \"properties\": {\n        \"dtype\": \"number\",\n        \"std\": 3.469954474069581,\n        \"min\": 0.0,\n        \"max\": 44.722225,\n        \"num_unique_values\": 702,\n        \"samples\": [\n          0.33333364\n        ],\n        \"semantic_type\": \"\",\n        \"description\": \"\"\n      }\n    },\n    {\n      \"column\": \"HEDGE-SD\",\n      \"properties\": {\n        \"dtype\": \"number\",\n        \"std\": 53.471074088334944,\n        \"min\": -1.5894573e-08,\n        \"max\": 1386.3292,\n        \"num_unique_values\": 1799,\n        \"samples\": [\n          1.3185184\n        ],\n        \"semantic_type\": \"\",\n        \"description\": \"\"\n      }\n    },\n    {\n      \"column\": \"INTENSITY-MEAN\",\n      \"properties\": {\n        \"dtype\": \"number\",\n        \"std\": 38.135291251144125,\n        \"min\": 0.0,\n        \"max\": 143.44444,\n        \"num_unique_values\": 1271,\n        \"samples\": [\n          33.333332\n        ],\n        \"semantic_type\": \"\",\n        \"description\": \"\"\n      }\n    },\n    {\n      \"column\": \"RAWRED-MEAN\",\n      \"properties\": {\n        \"dtype\": \"number\",\n        \"std\": 34.994537648521025,\n        \"min\": 0.0,\n        \"max\": 137.11111,\n        \"num_unique_values\": 681,\n        \"samples\": [\n          83.0\n        ],\n        \"semantic_type\": \"\",\n        \"description\": \"\"\n      }\n    },\n    {\n      \"column\": \"RAWBLUE-MEAN\",\n      \"properties\": {\n        \"dtype\": \"number\",\n        \"std\": 43.51011921688415,\n        \"min\": 0.0,\n        \"max\": 150.88889,\n        \"num_unique_values\": 781,\n        \"samples\": [\n          29.11111\n        ],\n        \"semantic_type\": \"\",\n        \"description\": \"\"\n      }\n    },\n    {\n      \"column\": \"RAWGREEN-MEAN\",\n      \"properties\": {\n        \"dtype\": \"number\",\n        \"std\": 36.30376811479441,\n        \"min\": 0.0,\n        \"max\": 142.55556,\n        \"num_unique_values\": 691,\n        \"samples\": [\n          120.44444\n        ],\n        \"semantic_type\": \"\",\n        \"description\": \"\"\n      }\n    },\n    {\n      \"column\": \"EXRED-MEAN\",\n      \"properties\": {\n        \"dtype\": \"number\",\n        \"std\": 11.588213926529571,\n        \"min\": -49.666668,\n        \"max\": 9.888889,\n        \"num_unique_values\": 430,\n        \"samples\": [\n          -28.222221\n        ],\n        \"semantic_type\": \"\",\n        \"description\": \"\"\n      }\n    },\n    {\n      \"column\": \"EXBLUE-MEAN\",\n      \"properties\": {\n        \"dtype\": \"number\",\n        \"std\": 19.65410749438449,\n        \"min\": -12.444445,\n        \"max\": 82.0,\n        \"num_unique_values\": 636,\n        \"samples\": [\n          2.4444444\n        ],\n        \"semantic_type\": \"\",\n        \"description\": \"\"\n      }\n    },\n    {\n      \"column\": \"EXGREEN-MEAN\",\n      \"properties\": {\n        \"dtype\": \"number\",\n        \"std\": 11.606996083847285,\n        \"min\": -33.88889,\n        \"max\": 24.666666,\n        \"num_unique_values\": 377,\n        \"samples\": [\n          -21.666666\n        ],\n        \"semantic_type\": \"\",\n        \"description\": \"\"\n      }\n    },\n    {\n      \"column\": \"VALUE-MEAN\",\n      \"properties\": {\n        \"dtype\": \"number\",\n        \"std\": 42.900581748332506,\n        \"min\": 0.0,\n        \"max\": 150.88889,\n        \"num_unique_values\": 785,\n        \"samples\": [\n          122.0\n        ],\n        \"semantic_type\": \"\",\n        \"description\": \"\"\n      }\n    },\n    {\n      \"column\": \"SATURATION-MEAN\",\n      \"properties\": {\n        \"dtype\": \"number\",\n        \"std\": 0.22845750588218885,\n        \"min\": 0.0,\n        \"max\": 1.0,\n        \"num_unique_values\": 1899,\n        \"samples\": [\n          0.12738518\n        ],\n        \"semantic_type\": \"\",\n        \"description\": \"\"\n      }\n    },\n    {\n      \"column\": \"HUE-MEAN\",\n      \"properties\": {\n        \"dtype\": \"number\",\n        \"std\": 1.5442778266375843,\n        \"min\": -3.0441751,\n        \"max\": 2.9124804,\n        \"num_unique_values\": 1937,\n        \"samples\": [\n          -2.1609125\n        ],\n        \"semantic_type\": \"\",\n        \"description\": \"\"\n      }\n    }\n  ]\n}"
            }
          },
          "metadata": {},
          "execution_count": 9
        }
      ],
      "source": [
        "test = pd.read_csv('/content/drive/MyDrive/Image-Segementation/Image-Segementation-Dataset/segmentation.test')\n",
        "test #All data is of floeat64 type"
      ]
    },
    {
      "cell_type": "code",
      "execution_count": 10,
      "metadata": {
        "id": "6xrpvAJCoWZ-"
      },
      "outputs": [],
      "source": [
        "test['TARGET-CLASS'].replace({'BRICKFACE':1, 'SKY':2, 'FOLIAGE':3, 'CEMENT':4, 'WINDOW':5, 'PATH':6, 'GRASS':7}, inplace = True )\n",
        "train['TARGET-CLASS'].replace({'BRICKFACE':1, 'SKY':2, 'FOLIAGE':3, 'CEMENT':4, 'WINDOW':5, 'PATH':6, 'GRASS':7}, inplace = True )\n",
        "#Brickface = 1\n",
        "#Sky = 2\n",
        "#Foliage = 3\n",
        "#Cement = 4\n",
        "#Window = 5\n",
        "#Path = 6\n",
        "#Grass = 7"
      ]
    },
    {
      "cell_type": "markdown",
      "metadata": {
        "id": "tCwJTvvfoWaA"
      },
      "source": [
        "## Spliting training and testing data"
      ]
    },
    {
      "cell_type": "code",
      "execution_count": 12,
      "metadata": {
        "id": "IRPGS4m_oWaB",
        "outputId": "a5a94eac-ed3d-4f6e-9209-5bd01f59837f",
        "colab": {
          "base_uri": "https://localhost:8080/"
        }
      },
      "outputs": [
        {
          "output_type": "stream",
          "name": "stdout",
          "text": [
            "(2099, 18)\n"
          ]
        }
      ],
      "source": [
        "X_test = test.iloc[1:, 2:]\n",
        "print(X_test.shape)\n",
        "y_test = test.iloc[1:,:1]\n",
        "X_train = train.iloc[1:, 2:]\n",
        "y_train = train.iloc[1:,:1]"
      ]
    },
    {
      "cell_type": "markdown",
      "metadata": {
        "id": "rE6Gwe9ooWaG"
      },
      "source": [
        "### Applying Support Vector Classifier"
      ]
    },
    {
      "cell_type": "code",
      "execution_count": 13,
      "metadata": {
        "id": "xHBKZC-SoWaG",
        "outputId": "56790e16-4e60-44a8-f200-279ed79fdf94",
        "colab": {
          "base_uri": "https://localhost:8080/",
          "height": 129
        }
      },
      "outputs": [
        {
          "output_type": "stream",
          "name": "stderr",
          "text": [
            "/usr/local/lib/python3.10/dist-packages/sklearn/utils/validation.py:1143: DataConversionWarning: A column-vector y was passed when a 1d array was expected. Please change the shape of y to (n_samples, ), for example using ravel().\n",
            "  y = column_or_1d(y, warn=True)\n"
          ]
        },
        {
          "output_type": "execute_result",
          "data": {
            "text/plain": [
              "SVC()"
            ],
            "text/html": [
              "<style>#sk-container-id-1 {color: black;background-color: white;}#sk-container-id-1 pre{padding: 0;}#sk-container-id-1 div.sk-toggleable {background-color: white;}#sk-container-id-1 label.sk-toggleable__label {cursor: pointer;display: block;width: 100%;margin-bottom: 0;padding: 0.3em;box-sizing: border-box;text-align: center;}#sk-container-id-1 label.sk-toggleable__label-arrow:before {content: \"▸\";float: left;margin-right: 0.25em;color: #696969;}#sk-container-id-1 label.sk-toggleable__label-arrow:hover:before {color: black;}#sk-container-id-1 div.sk-estimator:hover label.sk-toggleable__label-arrow:before {color: black;}#sk-container-id-1 div.sk-toggleable__content {max-height: 0;max-width: 0;overflow: hidden;text-align: left;background-color: #f0f8ff;}#sk-container-id-1 div.sk-toggleable__content pre {margin: 0.2em;color: black;border-radius: 0.25em;background-color: #f0f8ff;}#sk-container-id-1 input.sk-toggleable__control:checked~div.sk-toggleable__content {max-height: 200px;max-width: 100%;overflow: auto;}#sk-container-id-1 input.sk-toggleable__control:checked~label.sk-toggleable__label-arrow:before {content: \"▾\";}#sk-container-id-1 div.sk-estimator input.sk-toggleable__control:checked~label.sk-toggleable__label {background-color: #d4ebff;}#sk-container-id-1 div.sk-label input.sk-toggleable__control:checked~label.sk-toggleable__label {background-color: #d4ebff;}#sk-container-id-1 input.sk-hidden--visually {border: 0;clip: rect(1px 1px 1px 1px);clip: rect(1px, 1px, 1px, 1px);height: 1px;margin: -1px;overflow: hidden;padding: 0;position: absolute;width: 1px;}#sk-container-id-1 div.sk-estimator {font-family: monospace;background-color: #f0f8ff;border: 1px dotted black;border-radius: 0.25em;box-sizing: border-box;margin-bottom: 0.5em;}#sk-container-id-1 div.sk-estimator:hover {background-color: #d4ebff;}#sk-container-id-1 div.sk-parallel-item::after {content: \"\";width: 100%;border-bottom: 1px solid gray;flex-grow: 1;}#sk-container-id-1 div.sk-label:hover label.sk-toggleable__label {background-color: #d4ebff;}#sk-container-id-1 div.sk-serial::before {content: \"\";position: absolute;border-left: 1px solid gray;box-sizing: border-box;top: 0;bottom: 0;left: 50%;z-index: 0;}#sk-container-id-1 div.sk-serial {display: flex;flex-direction: column;align-items: center;background-color: white;padding-right: 0.2em;padding-left: 0.2em;position: relative;}#sk-container-id-1 div.sk-item {position: relative;z-index: 1;}#sk-container-id-1 div.sk-parallel {display: flex;align-items: stretch;justify-content: center;background-color: white;position: relative;}#sk-container-id-1 div.sk-item::before, #sk-container-id-1 div.sk-parallel-item::before {content: \"\";position: absolute;border-left: 1px solid gray;box-sizing: border-box;top: 0;bottom: 0;left: 50%;z-index: -1;}#sk-container-id-1 div.sk-parallel-item {display: flex;flex-direction: column;z-index: 1;position: relative;background-color: white;}#sk-container-id-1 div.sk-parallel-item:first-child::after {align-self: flex-end;width: 50%;}#sk-container-id-1 div.sk-parallel-item:last-child::after {align-self: flex-start;width: 50%;}#sk-container-id-1 div.sk-parallel-item:only-child::after {width: 0;}#sk-container-id-1 div.sk-dashed-wrapped {border: 1px dashed gray;margin: 0 0.4em 0.5em 0.4em;box-sizing: border-box;padding-bottom: 0.4em;background-color: white;}#sk-container-id-1 div.sk-label label {font-family: monospace;font-weight: bold;display: inline-block;line-height: 1.2em;}#sk-container-id-1 div.sk-label-container {text-align: center;}#sk-container-id-1 div.sk-container {/* jupyter's `normalize.less` sets `[hidden] { display: none; }` but bootstrap.min.css set `[hidden] { display: none !important; }` so we also need the `!important` here to be able to override the default hidden behavior on the sphinx rendered scikit-learn.org. See: https://github.com/scikit-learn/scikit-learn/issues/21755 */display: inline-block !important;position: relative;}#sk-container-id-1 div.sk-text-repr-fallback {display: none;}</style><div id=\"sk-container-id-1\" class=\"sk-top-container\"><div class=\"sk-text-repr-fallback\"><pre>SVC()</pre><b>In a Jupyter environment, please rerun this cell to show the HTML representation or trust the notebook. <br />On GitHub, the HTML representation is unable to render, please try loading this page with nbviewer.org.</b></div><div class=\"sk-container\" hidden><div class=\"sk-item\"><div class=\"sk-estimator sk-toggleable\"><input class=\"sk-toggleable__control sk-hidden--visually\" id=\"sk-estimator-id-1\" type=\"checkbox\" checked><label for=\"sk-estimator-id-1\" class=\"sk-toggleable__label sk-toggleable__label-arrow\">SVC</label><div class=\"sk-toggleable__content\"><pre>SVC()</pre></div></div></div></div></div>"
            ]
          },
          "metadata": {},
          "execution_count": 13
        }
      ],
      "source": [
        "from sklearn.svm import SVC\n",
        "model = SVC()\n",
        "model.fit(X_train, y_train)"
      ]
    },
    {
      "cell_type": "code",
      "execution_count": 14,
      "metadata": {
        "id": "kaqE2xHSoWaH",
        "outputId": "83cc1d8c-c7c8-48b4-8ed6-319a363ff6f1",
        "colab": {
          "base_uri": "https://localhost:8080/",
          "height": 452
        }
      },
      "outputs": [
        {
          "output_type": "stream",
          "name": "stdout",
          "text": [
            "0.7179609337779895\n"
          ]
        },
        {
          "output_type": "display_data",
          "data": {
            "text/plain": [
              "<Figure size 640x480 with 2 Axes>"
            ],
            "image/png": "[encoded data removed]"
          },
          "metadata": {}
        }
      ],
      "source": [
        "import sklearn as sk\n",
        "from sklearn.metrics import confusion_matrix\n",
        "\n",
        "model_predict = model.predict(X_test)\n",
        "acc = sk.metrics.accuracy_score(y_test, model_predict)\n",
        "print(acc) # Printing accuracy\n",
        "# Confusion Matrics\n",
        "conf_matrix = confusion_matrix(y_test, model_predict)\n",
        "sns.heatmap(conf_matrix, annot=True, fmt='d');\n"
      ]
    },
    {
      "cell_type": "markdown",
      "metadata": {
        "id": "BTVe994DoWaJ"
      },
      "source": [
        "### Applying Logistic Regression"
      ]
    },
    {
      "cell_type": "code",
      "execution_count": 15,
      "metadata": {
        "id": "TG6O-ubuoWaK",
        "outputId": "25eaa188-d236-4b0f-ebb2-b5aa6f8b9ef8",
        "colab": {
          "base_uri": "https://localhost:8080/",
          "height": 268
        }
      },
      "outputs": [
        {
          "output_type": "stream",
          "name": "stderr",
          "text": [
            "/usr/local/lib/python3.10/dist-packages/sklearn/utils/validation.py:1143: DataConversionWarning: A column-vector y was passed when a 1d array was expected. Please change the shape of y to (n_samples, ), for example using ravel().\n",
            "  y = column_or_1d(y, warn=True)\n",
            "/usr/local/lib/python3.10/dist-packages/sklearn/linear_model/_logistic.py:458: ConvergenceWarning: lbfgs failed to converge (status=1):\n",
            "STOP: TOTAL NO. of ITERATIONS REACHED LIMIT.\n",
            "\n",
            "Increase the number of iterations (max_iter) or scale the data as shown in:\n",
            "    https://scikit-learn.org/stable/modules/preprocessing.html\n",
            "Please also refer to the documentation for alternative solver options:\n",
            "    https://scikit-learn.org/stable/modules/linear_model.html#logistic-regression\n",
            "  n_iter_i = _check_optimize_result(\n"
          ]
        },
        {
          "output_type": "execute_result",
          "data": {
            "text/plain": [
              "LogisticRegression()"
            ],
            "text/html": [
              "<style>#sk-container-id-2 {color: black;background-color: white;}#sk-container-id-2 pre{padding: 0;}#sk-container-id-2 div.sk-toggleable {background-color: white;}#sk-container-id-2 label.sk-toggleable__label {cursor: pointer;display: block;width: 100%;margin-bottom: 0;padding: 0.3em;box-sizing: border-box;text-align: center;}#sk-container-id-2 label.sk-toggleable__label-arrow:before {content: \"▸\";float: left;margin-right: 0.25em;color: #696969;}#sk-container-id-2 label.sk-toggleable__label-arrow:hover:before {color: black;}#sk-container-id-2 div.sk-estimator:hover label.sk-toggleable__label-arrow:before {color: black;}#sk-container-id-2 div.sk-toggleable__content {max-height: 0;max-width: 0;overflow: hidden;text-align: left;background-color: #f0f8ff;}#sk-container-id-2 div.sk-toggleable__content pre {margin: 0.2em;color: black;border-radius: 0.25em;background-color: #f0f8ff;}#sk-container-id-2 input.sk-toggleable__control:checked~div.sk-toggleable__content {max-height: 200px;max-width: 100%;overflow: auto;}#sk-container-id-2 input.sk-toggleable__control:checked~label.sk-toggleable__label-arrow:before {content: \"▾\";}#sk-container-id-2 div.sk-estimator input.sk-toggleable__control:checked~label.sk-toggleable__label {background-color: #d4ebff;}#sk-container-id-2 div.sk-label input.sk-toggleable__control:checked~label.sk-toggleable__label {background-color: #d4ebff;}#sk-container-id-2 input.sk-hidden--visually {border: 0;clip: rect(1px 1px 1px 1px);clip: rect(1px, 1px, 1px, 1px);height: 1px;margin: -1px;overflow: hidden;padding: 0;position: absolute;width: 1px;}#sk-container-id-2 div.sk-estimator {font-family: monospace;background-color: #f0f8ff;border: 1px dotted black;border-radius: 0.25em;box-sizing: border-box;margin-bottom: 0.5em;}#sk-container-id-2 div.sk-estimator:hover {background-color: #d4ebff;}#sk-container-id-2 div.sk-parallel-item::after {content: \"\";width: 100%;border-bottom: 1px solid gray;flex-grow: 1;}#sk-container-id-2 div.sk-label:hover label.sk-toggleable__label {background-color: #d4ebff;}#sk-container-id-2 div.sk-serial::before {content: \"\";position: absolute;border-left: 1px solid gray;box-sizing: border-box;top: 0;bottom: 0;left: 50%;z-index: 0;}#sk-container-id-2 div.sk-serial {display: flex;flex-direction: column;align-items: center;background-color: white;padding-right: 0.2em;padding-left: 0.2em;position: relative;}#sk-container-id-2 div.sk-item {position: relative;z-index: 1;}#sk-container-id-2 div.sk-parallel {display: flex;align-items: stretch;justify-content: center;background-color: white;position: relative;}#sk-container-id-2 div.sk-item::before, #sk-container-id-2 div.sk-parallel-item::before {content: \"\";position: absolute;border-left: 1px solid gray;box-sizing: border-box;top: 0;bottom: 0;left: 50%;z-index: -1;}#sk-container-id-2 div.sk-parallel-item {display: flex;flex-direction: column;z-index: 1;position: relative;background-color: white;}#sk-container-id-2 div.sk-parallel-item:first-child::after {align-self: flex-end;width: 50%;}#sk-container-id-2 div.sk-parallel-item:last-child::after {align-self: flex-start;width: 50%;}#sk-container-id-2 div.sk-parallel-item:only-child::after {width: 0;}#sk-container-id-2 div.sk-dashed-wrapped {border: 1px dashed gray;margin: 0 0.4em 0.5em 0.4em;box-sizing: border-box;padding-bottom: 0.4em;background-color: white;}#sk-container-id-2 div.sk-label label {font-family: monospace;font-weight: bold;display: inline-block;line-height: 1.2em;}#sk-container-id-2 div.sk-label-container {text-align: center;}#sk-container-id-2 div.sk-container {/* jupyter's `normalize.less` sets `[hidden] { display: none; }` but bootstrap.min.css set `[hidden] { display: none !important; }` so we also need the `!important` here to be able to override the default hidden behavior on the sphinx rendered scikit-learn.org. See: https://github.com/scikit-learn/scikit-learn/issues/21755 */display: inline-block !important;position: relative;}#sk-container-id-2 div.sk-text-repr-fallback {display: none;}</style><div id=\"sk-container-id-2\" class=\"sk-top-container\"><div class=\"sk-text-repr-fallback\"><pre>LogisticRegression()</pre><b>In a Jupyter environment, please rerun this cell to show the HTML representation or trust the notebook. <br />On GitHub, the HTML representation is unable to render, please try loading this page with nbviewer.org.</b></div><div class=\"sk-container\" hidden><div class=\"sk-item\"><div class=\"sk-estimator sk-toggleable\"><input class=\"sk-toggleable__control sk-hidden--visually\" id=\"sk-estimator-id-2\" type=\"checkbox\" checked><label for=\"sk-estimator-id-2\" class=\"sk-toggleable__label sk-toggleable__label-arrow\">LogisticRegression</label><div class=\"sk-toggleable__content\"><pre>LogisticRegression()</pre></div></div></div></div></div>"
            ]
          },
          "metadata": {},
          "execution_count": 15
        }
      ],
      "source": [
        "from sklearn.linear_model import LogisticRegression\n",
        "\n",
        "model2 = LogisticRegression()\n",
        "model2.fit(X_train, y_train)"
      ]
    },
    {
      "cell_type": "code",
      "execution_count": 16,
      "metadata": {
        "id": "CNgV5e7yoWaL",
        "outputId": "d9afb4fd-feab-403a-b776-97870e3b4fea",
        "colab": {
          "base_uri": "https://localhost:8080/",
          "height": 447
        }
      },
      "outputs": [
        {
          "output_type": "stream",
          "name": "stdout",
          "text": [
            "0.9056693663649357\n"
          ]
        },
        {
          "output_type": "display_data",
          "data": {
            "text/plain": [
              "<Figure size 640x480 with 2 Axes>"
            ],
            "image/png": "[encoded data removed]"
          },
          "metadata": {}
        }
      ],
      "source": [
        "model2_predict = model2.predict(X_test)\n",
        "acc2 = sk.metrics.accuracy_score(y_test, model2_predict)\n",
        "print(acc2)\n",
        "conf_matrix = confusion_matrix(y_test, model2_predict)\n",
        "sns.heatmap(conf_matrix, annot=True, fmt='d');"
      ]
    },
    {
      "cell_type": "markdown",
      "metadata": {
        "id": "fMFP6z9poWaM"
      },
      "source": [
        "### Applying K-Nearest Neighbour"
      ]
    },
    {
      "cell_type": "code",
      "execution_count": 17,
      "metadata": {
        "id": "gUMx57groWaN",
        "outputId": "a37d2d8f-b1e9-4190-ae9a-1de25d2df9bd",
        "colab": {
          "base_uri": "https://localhost:8080/",
          "height": 129
        }
      },
      "outputs": [
        {
          "output_type": "stream",
          "name": "stderr",
          "text": [
            "/usr/local/lib/python3.10/dist-packages/sklearn/neighbors/_classification.py:215: DataConversionWarning: A column-vector y was passed when a 1d array was expected. Please change the shape of y to (n_samples,), for example using ravel().\n",
            "  return self._fit(X, y)\n"
          ]
        },
        {
          "output_type": "execute_result",
          "data": {
            "text/plain": [
              "KNeighborsClassifier(n_neighbors=7)"
            ],
            "text/html": [
              "<style>#sk-container-id-3 {color: black;background-color: white;}#sk-container-id-3 pre{padding: 0;}#sk-container-id-3 div.sk-toggleable {background-color: white;}#sk-container-id-3 label.sk-toggleable__label {cursor: pointer;display: block;width: 100%;margin-bottom: 0;padding: 0.3em;box-sizing: border-box;text-align: center;}#sk-container-id-3 label.sk-toggleable__label-arrow:before {content: \"▸\";float: left;margin-right: 0.25em;color: #696969;}#sk-container-id-3 label.sk-toggleable__label-arrow:hover:before {color: black;}#sk-container-id-3 div.sk-estimator:hover label.sk-toggleable__label-arrow:before {color: black;}#sk-container-id-3 div.sk-toggleable__content {max-height: 0;max-width: 0;overflow: hidden;text-align: left;background-color: #f0f8ff;}#sk-container-id-3 div.sk-toggleable__content pre {margin: 0.2em;color: black;border-radius: 0.25em;background-color: #f0f8ff;}#sk-container-id-3 input.sk-toggleable__control:checked~div.sk-toggleable__content {max-height: 200px;max-width: 100%;overflow: auto;}#sk-container-id-3 input.sk-toggleable__control:checked~label.sk-toggleable__label-arrow:before {content: \"▾\";}#sk-container-id-3 div.sk-estimator input.sk-toggleable__control:checked~label.sk-toggleable__label {background-color: #d4ebff;}#sk-container-id-3 div.sk-label input.sk-toggleable__control:checked~label.sk-toggleable__label {background-color: #d4ebff;}#sk-container-id-3 input.sk-hidden--visually {border: 0;clip: rect(1px 1px 1px 1px);clip: rect(1px, 1px, 1px, 1px);height: 1px;margin: -1px;overflow: hidden;padding: 0;position: absolute;width: 1px;}#sk-container-id-3 div.sk-estimator {font-family: monospace;background-color: #f0f8ff;border: 1px dotted black;border-radius: 0.25em;box-sizing: border-box;margin-bottom: 0.5em;}#sk-container-id-3 div.sk-estimator:hover {background-color: #d4ebff;}#sk-container-id-3 div.sk-parallel-item::after {content: \"\";width: 100%;border-bottom: 1px solid gray;flex-grow: 1;}#sk-container-id-3 div.sk-label:hover label.sk-toggleable__label {background-color: #d4ebff;}#sk-container-id-3 div.sk-serial::before {content: \"\";position: absolute;border-left: 1px solid gray;box-sizing: border-box;top: 0;bottom: 0;left: 50%;z-index: 0;}#sk-container-id-3 div.sk-serial {display: flex;flex-direction: column;align-items: center;background-color: white;padding-right: 0.2em;padding-left: 0.2em;position: relative;}#sk-container-id-3 div.sk-item {position: relative;z-index: 1;}#sk-container-id-3 div.sk-parallel {display: flex;align-items: stretch;justify-content: center;background-color: white;position: relative;}#sk-container-id-3 div.sk-item::before, #sk-container-id-3 div.sk-parallel-item::before {content: \"\";position: absolute;border-left: 1px solid gray;box-sizing: border-box;top: 0;bottom: 0;left: 50%;z-index: -1;}#sk-container-id-3 div.sk-parallel-item {display: flex;flex-direction: column;z-index: 1;position: relative;background-color: white;}#sk-container-id-3 div.sk-parallel-item:first-child::after {align-self: flex-end;width: 50%;}#sk-container-id-3 div.sk-parallel-item:last-child::after {align-self: flex-start;width: 50%;}#sk-container-id-3 div.sk-parallel-item:only-child::after {width: 0;}#sk-container-id-3 div.sk-dashed-wrapped {border: 1px dashed gray;margin: 0 0.4em 0.5em 0.4em;box-sizing: border-box;padding-bottom: 0.4em;background-color: white;}#sk-container-id-3 div.sk-label label {font-family: monospace;font-weight: bold;display: inline-block;line-height: 1.2em;}#sk-container-id-3 div.sk-label-container {text-align: center;}#sk-container-id-3 div.sk-container {/* jupyter's `normalize.less` sets `[hidden] { display: none; }` but bootstrap.min.css set `[hidden] { display: none !important; }` so we also need the `!important` here to be able to override the default hidden behavior on the sphinx rendered scikit-learn.org. See: https://github.com/scikit-learn/scikit-learn/issues/21755 */display: inline-block !important;position: relative;}#sk-container-id-3 div.sk-text-repr-fallback {display: none;}</style><div id=\"sk-container-id-3\" class=\"sk-top-container\"><div class=\"sk-text-repr-fallback\"><pre>KNeighborsClassifier(n_neighbors=7)</pre><b>In a Jupyter environment, please rerun this cell to show the HTML representation or trust the notebook. <br />On GitHub, the HTML representation is unable to render, please try loading this page with nbviewer.org.</b></div><div class=\"sk-container\" hidden><div class=\"sk-item\"><div class=\"sk-estimator sk-toggleable\"><input class=\"sk-toggleable__control sk-hidden--visually\" id=\"sk-estimator-id-3\" type=\"checkbox\" checked><label for=\"sk-estimator-id-3\" class=\"sk-toggleable__label sk-toggleable__label-arrow\">KNeighborsClassifier</label><div class=\"sk-toggleable__content\"><pre>KNeighborsClassifier(n_neighbors=7)</pre></div></div></div></div></div>"
            ]
          },
          "metadata": {},
          "execution_count": 17
        }
      ],
      "source": [
        "from sklearn.neighbors import KNeighborsClassifier\n",
        "\n",
        "model3 = KNeighborsClassifier(n_neighbors=7)\n",
        "model3.fit(X_train, y_train)"
      ]
    },
    {
      "cell_type": "code",
      "execution_count": 18,
      "metadata": {
        "id": "By2rJ2y6oWaN",
        "outputId": "197257b2-921e-4a0c-898e-5375706bcbd6",
        "colab": {
          "base_uri": "https://localhost:8080/",
          "height": 452
        }
      },
      "outputs": [
        {
          "output_type": "stream",
          "name": "stdout",
          "text": [
            "0.8937589328251548\n"
          ]
        },
        {
          "output_type": "display_data",
          "data": {
            "text/plain": [
              "<Figure size 640x480 with 2 Axes>"
            ],
            "image/png": "[encoded data removed]"
          },
          "metadata": {}
        }
      ],
      "source": [
        "model3_predict = model3.predict(X_test)\n",
        "acc3 = sk.metrics.accuracy_score(y_test, model3_predict)\n",
        "print(acc3)\n",
        "conf_matrix = confusion_matrix(y_test, model3_predict)\n",
        "sns.heatmap(conf_matrix, annot=True, fmt='d');"
      ]
    },
    {
      "cell_type": "markdown",
      "metadata": {
        "id": "eaoN-5PAoWaO"
      },
      "source": [
        "### Applying Random Forest Classifier"
      ]
    },
    {
      "cell_type": "code",
      "execution_count": 19,
      "metadata": {
        "id": "b7NCjTHYoWaQ",
        "outputId": "04332030-fcf9-4560-cc8b-cc8e4375f6fb",
        "colab": {
          "base_uri": "https://localhost:8080/",
          "height": 129
        }
      },
      "outputs": [
        {
          "output_type": "stream",
          "name": "stderr",
          "text": [
            "<ipython-input-19-0cef9be7b3ad>:4: DataConversionWarning: A column-vector y was passed when a 1d array was expected. Please change the shape of y to (n_samples,), for example using ravel().\n",
            "  model4.fit(X_train, y_train)\n"
          ]
        },
        {
          "output_type": "execute_result",
          "data": {
            "text/plain": [
              "RandomForestClassifier(n_estimators=7)"
            ],
            "text/html": [
              "<style>#sk-container-id-4 {color: black;background-color: white;}#sk-container-id-4 pre{padding: 0;}#sk-container-id-4 div.sk-toggleable {background-color: white;}#sk-container-id-4 label.sk-toggleable__label {cursor: pointer;display: block;width: 100%;margin-bottom: 0;padding: 0.3em;box-sizing: border-box;text-align: center;}#sk-container-id-4 label.sk-toggleable__label-arrow:before {content: \"▸\";float: left;margin-right: 0.25em;color: #696969;}#sk-container-id-4 label.sk-toggleable__label-arrow:hover:before {color: black;}#sk-container-id-4 div.sk-estimator:hover label.sk-toggleable__label-arrow:before {color: black;}#sk-container-id-4 div.sk-toggleable__content {max-height: 0;max-width: 0;overflow: hidden;text-align: left;background-color: #f0f8ff;}#sk-container-id-4 div.sk-toggleable__content pre {margin: 0.2em;color: black;border-radius: 0.25em;background-color: #f0f8ff;}#sk-container-id-4 input.sk-toggleable__control:checked~div.sk-toggleable__content {max-height: 200px;max-width: 100%;overflow: auto;}#sk-container-id-4 input.sk-toggleable__control:checked~label.sk-toggleable__label-arrow:before {content: \"▾\";}#sk-container-id-4 div.sk-estimator input.sk-toggleable__control:checked~label.sk-toggleable__label {background-color: #d4ebff;}#sk-container-id-4 div.sk-label input.sk-toggleable__control:checked~label.sk-toggleable__label {background-color: #d4ebff;}#sk-container-id-4 input.sk-hidden--visually {border: 0;clip: rect(1px 1px 1px 1px);clip: rect(1px, 1px, 1px, 1px);height: 1px;margin: -1px;overflow: hidden;padding: 0;position: absolute;width: 1px;}#sk-container-id-4 div.sk-estimator {font-family: monospace;background-color: #f0f8ff;border: 1px dotted black;border-radius: 0.25em;box-sizing: border-box;margin-bottom: 0.5em;}#sk-container-id-4 div.sk-estimator:hover {background-color: #d4ebff;}#sk-container-id-4 div.sk-parallel-item::after {content: \"\";width: 100%;border-bottom: 1px solid gray;flex-grow: 1;}#sk-container-id-4 div.sk-label:hover label.sk-toggleable__label {background-color: #d4ebff;}#sk-container-id-4 div.sk-serial::before {content: \"\";position: absolute;border-left: 1px solid gray;box-sizing: border-box;top: 0;bottom: 0;left: 50%;z-index: 0;}#sk-container-id-4 div.sk-serial {display: flex;flex-direction: column;align-items: center;background-color: white;padding-right: 0.2em;padding-left: 0.2em;position: relative;}#sk-container-id-4 div.sk-item {position: relative;z-index: 1;}#sk-container-id-4 div.sk-parallel {display: flex;align-items: stretch;justify-content: center;background-color: white;position: relative;}#sk-container-id-4 div.sk-item::before, #sk-container-id-4 div.sk-parallel-item::before {content: \"\";position: absolute;border-left: 1px solid gray;box-sizing: border-box;top: 0;bottom: 0;left: 50%;z-index: -1;}#sk-container-id-4 div.sk-parallel-item {display: flex;flex-direction: column;z-index: 1;position: relative;background-color: white;}#sk-container-id-4 div.sk-parallel-item:first-child::after {align-self: flex-end;width: 50%;}#sk-container-id-4 div.sk-parallel-item:last-child::after {align-self: flex-start;width: 50%;}#sk-container-id-4 div.sk-parallel-item:only-child::after {width: 0;}#sk-container-id-4 div.sk-dashed-wrapped {border: 1px dashed gray;margin: 0 0.4em 0.5em 0.4em;box-sizing: border-box;padding-bottom: 0.4em;background-color: white;}#sk-container-id-4 div.sk-label label {font-family: monospace;font-weight: bold;display: inline-block;line-height: 1.2em;}#sk-container-id-4 div.sk-label-container {text-align: center;}#sk-container-id-4 div.sk-container {/* jupyter's `normalize.less` sets `[hidden] { display: none; }` but bootstrap.min.css set `[hidden] { display: none !important; }` so we also need the `!important` here to be able to override the default hidden behavior on the sphinx rendered scikit-learn.org. See: https://github.com/scikit-learn/scikit-learn/issues/21755 */display: inline-block !important;position: relative;}#sk-container-id-4 div.sk-text-repr-fallback {display: none;}</style><div id=\"sk-container-id-4\" class=\"sk-top-container\"><div class=\"sk-text-repr-fallback\"><pre>RandomForestClassifier(n_estimators=7)</pre><b>In a Jupyter environment, please rerun this cell to show the HTML representation or trust the notebook. <br />On GitHub, the HTML representation is unable to render, please try loading this page with nbviewer.org.</b></div><div class=\"sk-container\" hidden><div class=\"sk-item\"><div class=\"sk-estimator sk-toggleable\"><input class=\"sk-toggleable__control sk-hidden--visually\" id=\"sk-estimator-id-4\" type=\"checkbox\" checked><label for=\"sk-estimator-id-4\" class=\"sk-toggleable__label sk-toggleable__label-arrow\">RandomForestClassifier</label><div class=\"sk-toggleable__content\"><pre>RandomForestClassifier(n_estimators=7)</pre></div></div></div></div></div>"
            ]
          },
          "metadata": {},
          "execution_count": 19
        }
      ],
      "source": [
        "from sklearn.ensemble import RandomForestClassifier\n",
        "\n",
        "model4 = RandomForestClassifier(n_estimators=7)\n",
        "model4.fit(X_train, y_train)"
      ]
    },
    {
      "cell_type": "code",
      "execution_count": 20,
      "metadata": {
        "id": "ExswVhKmoWaS",
        "outputId": "2812e4e5-e880-44ae-f260-cb6352aa7a52",
        "colab": {
          "base_uri": "https://localhost:8080/",
          "height": 452
        }
      },
      "outputs": [
        {
          "output_type": "stream",
          "name": "stdout",
          "text": [
            "0.9299666507860886\n"
          ]
        },
        {
          "output_type": "display_data",
          "data": {
            "text/plain": [
              "<Figure size 640x480 with 2 Axes>"
            ],
            "image/png": "[encoded data removed]"
          },
          "metadata": {}
        }
      ],
      "source": [
        "model4_predict = model4.predict(X_test)\n",
        "acc4 = sk.metrics.accuracy_score(y_test, model4_predict)\n",
        "print(acc4)\n",
        "conf_matrix = confusion_matrix(y_test, model4_predict)\n",
        "sns.heatmap(conf_matrix, annot=True, fmt='d');"
      ]
    },
    {
      "cell_type": "markdown",
      "metadata": {
        "id": "kqPtfGIuoWaT"
      },
      "source": [
        "### Applying Adaboost Classifier"
      ]
    },
    {
      "cell_type": "code",
      "execution_count": 21,
      "metadata": {
        "id": "jxuktvcroWaU",
        "outputId": "bf46072d-4942-49f2-b8b0-013bafe0009d",
        "colab": {
          "base_uri": "https://localhost:8080/",
          "height": 129
        }
      },
      "outputs": [
        {
          "output_type": "stream",
          "name": "stderr",
          "text": [
            "/usr/local/lib/python3.10/dist-packages/sklearn/utils/validation.py:1143: DataConversionWarning: A column-vector y was passed when a 1d array was expected. Please change the shape of y to (n_samples, ), for example using ravel().\n",
            "  y = column_or_1d(y, warn=True)\n"
          ]
        },
        {
          "output_type": "execute_result",
          "data": {
            "text/plain": [
              "AdaBoostClassifier(n_estimators=7)"
            ],
            "text/html": [
              "<style>#sk-container-id-5 {color: black;background-color: white;}#sk-container-id-5 pre{padding: 0;}#sk-container-id-5 div.sk-toggleable {background-color: white;}#sk-container-id-5 label.sk-toggleable__label {cursor: pointer;display: block;width: 100%;margin-bottom: 0;padding: 0.3em;box-sizing: border-box;text-align: center;}#sk-container-id-5 label.sk-toggleable__label-arrow:before {content: \"▸\";float: left;margin-right: 0.25em;color: #696969;}#sk-container-id-5 label.sk-toggleable__label-arrow:hover:before {color: black;}#sk-container-id-5 div.sk-estimator:hover label.sk-toggleable__label-arrow:before {color: black;}#sk-container-id-5 div.sk-toggleable__content {max-height: 0;max-width: 0;overflow: hidden;text-align: left;background-color: #f0f8ff;}#sk-container-id-5 div.sk-toggleable__content pre {margin: 0.2em;color: black;border-radius: 0.25em;background-color: #f0f8ff;}#sk-container-id-5 input.sk-toggleable__control:checked~div.sk-toggleable__content {max-height: 200px;max-width: 100%;overflow: auto;}#sk-container-id-5 input.sk-toggleable__control:checked~label.sk-toggleable__label-arrow:before {content: \"▾\";}#sk-container-id-5 div.sk-estimator input.sk-toggleable__control:checked~label.sk-toggleable__label {background-color: #d4ebff;}#sk-container-id-5 div.sk-label input.sk-toggleable__control:checked~label.sk-toggleable__label {background-color: #d4ebff;}#sk-container-id-5 input.sk-hidden--visually {border: 0;clip: rect(1px 1px 1px 1px);clip: rect(1px, 1px, 1px, 1px);height: 1px;margin: -1px;overflow: hidden;padding: 0;position: absolute;width: 1px;}#sk-container-id-5 div.sk-estimator {font-family: monospace;background-color: #f0f8ff;border: 1px dotted black;border-radius: 0.25em;box-sizing: border-box;margin-bottom: 0.5em;}#sk-container-id-5 div.sk-estimator:hover {background-color: #d4ebff;}#sk-container-id-5 div.sk-parallel-item::after {content: \"\";width: 100%;border-bottom: 1px solid gray;flex-grow: 1;}#sk-container-id-5 div.sk-label:hover label.sk-toggleable__label {background-color: #d4ebff;}#sk-container-id-5 div.sk-serial::before {content: \"\";position: absolute;border-left: 1px solid gray;box-sizing: border-box;top: 0;bottom: 0;left: 50%;z-index: 0;}#sk-container-id-5 div.sk-serial {display: flex;flex-direction: column;align-items: center;background-color: white;padding-right: 0.2em;padding-left: 0.2em;position: relative;}#sk-container-id-5 div.sk-item {position: relative;z-index: 1;}#sk-container-id-5 div.sk-parallel {display: flex;align-items: stretch;justify-content: center;background-color: white;position: relative;}#sk-container-id-5 div.sk-item::before, #sk-container-id-5 div.sk-parallel-item::before {content: \"\";position: absolute;border-left: 1px solid gray;box-sizing: border-box;top: 0;bottom: 0;left: 50%;z-index: -1;}#sk-container-id-5 div.sk-parallel-item {display: flex;flex-direction: column;z-index: 1;position: relative;background-color: white;}#sk-container-id-5 div.sk-parallel-item:first-child::after {align-self: flex-end;width: 50%;}#sk-container-id-5 div.sk-parallel-item:last-child::after {align-self: flex-start;width: 50%;}#sk-container-id-5 div.sk-parallel-item:only-child::after {width: 0;}#sk-container-id-5 div.sk-dashed-wrapped {border: 1px dashed gray;margin: 0 0.4em 0.5em 0.4em;box-sizing: border-box;padding-bottom: 0.4em;background-color: white;}#sk-container-id-5 div.sk-label label {font-family: monospace;font-weight: bold;display: inline-block;line-height: 1.2em;}#sk-container-id-5 div.sk-label-container {text-align: center;}#sk-container-id-5 div.sk-container {/* jupyter's `normalize.less` sets `[hidden] { display: none; }` but bootstrap.min.css set `[hidden] { display: none !important; }` so we also need the `!important` here to be able to override the default hidden behavior on the sphinx rendered scikit-learn.org. See: https://github.com/scikit-learn/scikit-learn/issues/21755 */display: inline-block !important;position: relative;}#sk-container-id-5 div.sk-text-repr-fallback {display: none;}</style><div id=\"sk-container-id-5\" class=\"sk-top-container\"><div class=\"sk-text-repr-fallback\"><pre>AdaBoostClassifier(n_estimators=7)</pre><b>In a Jupyter environment, please rerun this cell to show the HTML representation or trust the notebook. <br />On GitHub, the HTML representation is unable to render, please try loading this page with nbviewer.org.</b></div><div class=\"sk-container\" hidden><div class=\"sk-item\"><div class=\"sk-estimator sk-toggleable\"><input class=\"sk-toggleable__control sk-hidden--visually\" id=\"sk-estimator-id-5\" type=\"checkbox\" checked><label for=\"sk-estimator-id-5\" class=\"sk-toggleable__label sk-toggleable__label-arrow\">AdaBoostClassifier</label><div class=\"sk-toggleable__content\"><pre>AdaBoostClassifier(n_estimators=7)</pre></div></div></div></div></div>"
            ]
          },
          "metadata": {},
          "execution_count": 21
        }
      ],
      "source": [
        "from sklearn.ensemble import AdaBoostClassifier\n",
        "\n",
        "model5 = AdaBoostClassifier(n_estimators=7)\n",
        "model5.fit(X_train, y_train)"
      ]
    },
    {
      "cell_type": "code",
      "execution_count": 22,
      "metadata": {
        "id": "AX84Gud4oWaV",
        "outputId": "7388c00c-dd70-4a78-c268-63bc1fa044d5",
        "colab": {
          "base_uri": "https://localhost:8080/",
          "height": 452
        }
      },
      "outputs": [
        {
          "output_type": "stream",
          "name": "stdout",
          "text": [
            "0.4263935207241544\n"
          ]
        },
        {
          "output_type": "display_data",
          "data": {
            "text/plain": [
              "<Figure size 640x480 with 2 Axes>"
            ],
            "image/png": "[encoded data removed]"
          },
          "metadata": {}
        }
      ],
      "source": [
        "model5_predict = model5.predict(X_test)\n",
        "acc5 = sk.metrics.accuracy_score(y_test, model5_predict)\n",
        "print(acc5)\n",
        "conf_matrix = confusion_matrix(y_test, model5_predict)\n",
        "sns.heatmap(conf_matrix, annot=True, fmt='d');"
      ]
    },
    {
      "cell_type": "markdown",
      "metadata": {
        "id": "EaxEDnWIoWaW"
      },
      "source": [
        "### Applying Naive Bayes Classifier"
      ]
    },
    {
      "cell_type": "code",
      "execution_count": 23,
      "metadata": {
        "id": "SyMFXP4WoWaX",
        "outputId": "aad33ebb-265c-4eb5-cdb9-c5cba3c65212",
        "colab": {
          "base_uri": "https://localhost:8080/",
          "height": 129
        }
      },
      "outputs": [
        {
          "output_type": "stream",
          "name": "stderr",
          "text": [
            "/usr/local/lib/python3.10/dist-packages/sklearn/utils/validation.py:1143: DataConversionWarning: A column-vector y was passed when a 1d array was expected. Please change the shape of y to (n_samples, ), for example using ravel().\n",
            "  y = column_or_1d(y, warn=True)\n"
          ]
        },
        {
          "output_type": "execute_result",
          "data": {
            "text/plain": [
              "GaussianNB()"
            ],
            "text/html": [
              "<style>#sk-container-id-6 {color: black;background-color: white;}#sk-container-id-6 pre{padding: 0;}#sk-container-id-6 div.sk-toggleable {background-color: white;}#sk-container-id-6 label.sk-toggleable__label {cursor: pointer;display: block;width: 100%;margin-bottom: 0;padding: 0.3em;box-sizing: border-box;text-align: center;}#sk-container-id-6 label.sk-toggleable__label-arrow:before {content: \"▸\";float: left;margin-right: 0.25em;color: #696969;}#sk-container-id-6 label.sk-toggleable__label-arrow:hover:before {color: black;}#sk-container-id-6 div.sk-estimator:hover label.sk-toggleable__label-arrow:before {color: black;}#sk-container-id-6 div.sk-toggleable__content {max-height: 0;max-width: 0;overflow: hidden;text-align: left;background-color: #f0f8ff;}#sk-container-id-6 div.sk-toggleable__content pre {margin: 0.2em;color: black;border-radius: 0.25em;background-color: #f0f8ff;}#sk-container-id-6 input.sk-toggleable__control:checked~div.sk-toggleable__content {max-height: 200px;max-width: 100%;overflow: auto;}#sk-container-id-6 input.sk-toggleable__control:checked~label.sk-toggleable__label-arrow:before {content: \"▾\";}#sk-container-id-6 div.sk-estimator input.sk-toggleable__control:checked~label.sk-toggleable__label {background-color: #d4ebff;}#sk-container-id-6 div.sk-label input.sk-toggleable__control:checked~label.sk-toggleable__label {background-color: #d4ebff;}#sk-container-id-6 input.sk-hidden--visually {border: 0;clip: rect(1px 1px 1px 1px);clip: rect(1px, 1px, 1px, 1px);height: 1px;margin: -1px;overflow: hidden;padding: 0;position: absolute;width: 1px;}#sk-container-id-6 div.sk-estimator {font-family: monospace;background-color: #f0f8ff;border: 1px dotted black;border-radius: 0.25em;box-sizing: border-box;margin-bottom: 0.5em;}#sk-container-id-6 div.sk-estimator:hover {background-color: #d4ebff;}#sk-container-id-6 div.sk-parallel-item::after {content: \"\";width: 100%;border-bottom: 1px solid gray;flex-grow: 1;}#sk-container-id-6 div.sk-label:hover label.sk-toggleable__label {background-color: #d4ebff;}#sk-container-id-6 div.sk-serial::before {content: \"\";position: absolute;border-left: 1px solid gray;box-sizing: border-box;top: 0;bottom: 0;left: 50%;z-index: 0;}#sk-container-id-6 div.sk-serial {display: flex;flex-direction: column;align-items: center;background-color: white;padding-right: 0.2em;padding-left: 0.2em;position: relative;}#sk-container-id-6 div.sk-item {position: relative;z-index: 1;}#sk-container-id-6 div.sk-parallel {display: flex;align-items: stretch;justify-content: center;background-color: white;position: relative;}#sk-container-id-6 div.sk-item::before, #sk-container-id-6 div.sk-parallel-item::before {content: \"\";position: absolute;border-left: 1px solid gray;box-sizing: border-box;top: 0;bottom: 0;left: 50%;z-index: -1;}#sk-container-id-6 div.sk-parallel-item {display: flex;flex-direction: column;z-index: 1;position: relative;background-color: white;}#sk-container-id-6 div.sk-parallel-item:first-child::after {align-self: flex-end;width: 50%;}#sk-container-id-6 div.sk-parallel-item:last-child::after {align-self: flex-start;width: 50%;}#sk-container-id-6 div.sk-parallel-item:only-child::after {width: 0;}#sk-container-id-6 div.sk-dashed-wrapped {border: 1px dashed gray;margin: 0 0.4em 0.5em 0.4em;box-sizing: border-box;padding-bottom: 0.4em;background-color: white;}#sk-container-id-6 div.sk-label label {font-family: monospace;font-weight: bold;display: inline-block;line-height: 1.2em;}#sk-container-id-6 div.sk-label-container {text-align: center;}#sk-container-id-6 div.sk-container {/* jupyter's `normalize.less` sets `[hidden] { display: none; }` but bootstrap.min.css set `[hidden] { display: none !important; }` so we also need the `!important` here to be able to override the default hidden behavior on the sphinx rendered scikit-learn.org. See: https://github.com/scikit-learn/scikit-learn/issues/21755 */display: inline-block !important;position: relative;}#sk-container-id-6 div.sk-text-repr-fallback {display: none;}</style><div id=\"sk-container-id-6\" class=\"sk-top-container\"><div class=\"sk-text-repr-fallback\"><pre>GaussianNB()</pre><b>In a Jupyter environment, please rerun this cell to show the HTML representation or trust the notebook. <br />On GitHub, the HTML representation is unable to render, please try loading this page with nbviewer.org.</b></div><div class=\"sk-container\" hidden><div class=\"sk-item\"><div class=\"sk-estimator sk-toggleable\"><input class=\"sk-toggleable__control sk-hidden--visually\" id=\"sk-estimator-id-6\" type=\"checkbox\" checked><label for=\"sk-estimator-id-6\" class=\"sk-toggleable__label sk-toggleable__label-arrow\">GaussianNB</label><div class=\"sk-toggleable__content\"><pre>GaussianNB()</pre></div></div></div></div></div>"
            ]
          },
          "metadata": {},
          "execution_count": 23
        }
      ],
      "source": [
        "from sklearn.naive_bayes import GaussianNB\n",
        "model6 = GaussianNB()\n",
        "model6.fit(X_train, y_train)\n"
      ]
    },
    {
      "cell_type": "code",
      "execution_count": 24,
      "metadata": {
        "id": "6G1ZpNpioWaY",
        "outputId": "d5bf8e9d-d9e9-4e37-fbec-3cc1f6bfff3c",
        "colab": {
          "base_uri": "https://localhost:8080/",
          "height": 447
        }
      },
      "outputs": [
        {
          "output_type": "stream",
          "name": "stdout",
          "text": [
            "0.7951405431157694\n"
          ]
        },
        {
          "output_type": "display_data",
          "data": {
            "text/plain": [
              "<Figure size 640x480 with 2 Axes>"
            ],
            "image/png": "[encoded data removed]"
          },
          "metadata": {}
        }
      ],
      "source": [
        "model6_predict = model6.predict(X_test)\n",
        "acc6 = sk.metrics.accuracy_score(y_test, model6_predict)\n",
        "print(acc6)\n",
        "conf_matrix = confusion_matrix(y_test, model6_predict)\n",
        "sns.heatmap(conf_matrix, annot=True, fmt='d');"
      ]
    },
    {
      "cell_type": "code",
      "execution_count": 25,
      "metadata": {
        "id": "p_aaXE02oWaY",
        "outputId": "a774fb56-dafc-49b9-ab8c-7e147c4e3a7d",
        "colab": {
          "base_uri": "https://localhost:8080/",
          "height": 472
        }
      },
      "outputs": [
        {
          "output_type": "display_data",
          "data": {
            "text/plain": [
              "<Figure size 640x480 with 1 Axes>"
            ],
            "image/png": "[encoded data removed]"
          },
          "metadata": {}
        }
      ],
      "source": [
        "import matplotlib.pyplot as plt\n",
        "data = {'SVC':acc, 'LogisticRegression':acc2, 'KNN':acc3, 'RandomForest':acc4, 'AdaBoost':acc5, 'NaiveBayes':acc6}\n",
        "courses = list(data.keys())\n",
        "values = list(data.values())\n",
        "fig = plt.figure()\n",
        "plt.bar(courses, values, color ='cyan',width = 0.4)\n",
        "plt.xlabel(\"Models\")\n",
        "plt.ylabel(\"Accuracy\")\n",
        "plt.title(\"Change in accuracy based on the model\")\n",
        "plt.show()"
      ]
    },
    {
      "cell_type": "code",
      "execution_count": 27,
      "metadata": {
        "id": "uOclqTVFoWaZ"
      },
      "outputs": [],
      "source": [
        "pickle.dump(model4, open('/content/drive/MyDrive/Image-Segementation/Image-Segementation-Dataset/model.pkl', 'wb'))"
      ]
    },
    {
      "cell_type": "code",
      "source": [],
      "metadata": {
        "id": "vb5LxIc1rjNU"
      },
      "execution_count": null,
      "outputs": []
    }
  ],
  "metadata": {
    "kernelspec": {
      "display_name": "Python 3",
      "language": "python",
      "name": "python3"
    },
    "language_info": {
      "codemirror_mode": {
        "name": "ipython",
        "version": 3
      },
      "file_extension": ".py",
      "mimetype": "text/x-python",
      "name": "python",
      "nbconvert_exporter": "python",
      "pygments_lexer": "ipython3",
      "version": "3.10.6"
    },
    "orig_nbformat": 4,
    "colab": {
      "provenance": []
    }
  },
  "nbformat": 4,
  "nbformat_minor": 0
}